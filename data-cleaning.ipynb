{
 "cells": [
  {
   "cell_type": "markdown",
   "metadata": {},
   "source": [
    "## Data Cleaning for New York"
   ]
  },
  {
   "cell_type": "code",
   "execution_count": 1,
   "metadata": {},
   "outputs": [],
   "source": [
    "import geopandas as gpd\n",
    "import maup\n",
    "\n",
    "maup.progress.enabled = True"
   ]
  },
  {
   "cell_type": "markdown",
   "metadata": {},
   "source": [
    "### Import the necessary files from the redistricting hub:\n",
    "\n",
    "- **ny_pl2020_vtd**: https://redistrictingdatahub.org/dataset/new-york-vtd-pl-94171-2020/\n",
    "- **ny_vest_18**: https://redistrictingdatahub.org/dataset/vest-2018-new-york-precinct-and-election-results/\n",
    "- **ny_pl2020_cd**: https://redistrictingdatahub.org/dataset/new-york-congressional-district-pl-94171-2020/\n",
    "- **ny_cong_adopted_2022**: https://redistrictingdatahub.org/dataset/2022-new-york-congressional-districts-plan/"
   ]
  },
  {
   "cell_type": "code",
   "execution_count": 2,
   "metadata": {},
   "outputs": [],
   "source": [
    "population_df = gpd.read_file(\"./ny_pl2020_vtd/ny_pl2020_vtd.shp\")\n",
    "election_df = gpd.read_file(\"./ny_vest_18/ny_vest_18.shp\")\n",
    "cong_df = gpd.read_file(\"./ny_cong_adopted_2022/CON22_June_03_2022.shp\")"
   ]
  },
  {
   "cell_type": "markdown",
   "metadata": {},
   "source": [
    "#### Let's clean up the column names from ```election_df```, and remove the ones we don't need"
   ]
  },
  {
   "cell_type": "code",
   "execution_count": 3,
   "metadata": {},
   "outputs": [],
   "source": [
    "election_df.rename(columns={\n",
    "    \"G18USSDGIL\": \"G18SEND\",\n",
    "    \"G18USSRFAR\": \"G18SENR\",\n",
    "    \"G18GOVDCUO\": \"G18GOVD\",\n",
    "    \"G18GOVRMOL\": \"G18GOVR\",\n",
    "    \"G18COMDDIN\": \"G18COMD\",\n",
    "    \"G18COMRTRI\": \"G18COMR\",\n",
    "    \"G18ATGDJAM\": \"G18ATGD\",\n",
    "    \"G18ATGRWOF\": \"G18ATGR\"\n",
    "}, inplace=True)\n",
    "\n",
    "election_df.drop(columns=[\n",
    "    \"G18USSOWRI\", \"G18GOVLSHA\", \"G18GOVGHAW\", \"G18GOVSMIN\",\n",
    "    \"G18GOVOWRI\", \"G18COMLGAL\", \"G18COMGDUN\", \"G18COMOWRI\",\n",
    "    \"G18ATGLGAR\", \"G18ATGGSUS\", \"G18ATGOSLI\", \"G18ATGOWRI\"],\n",
    "                inplace=True)"
   ]
  },
  {
   "cell_type": "markdown",
   "metadata": {},
   "source": [
    "#### Check to make sure we only have the election columns we need"
   ]
  },
  {
   "cell_type": "code",
   "execution_count": 4,
   "metadata": {},
   "outputs": [
    {
     "data": {
      "text/plain": [
       "Index(['STATEFP', 'COUNTYFP', 'COUNTY', 'PRECINCT', 'G18SEND', 'G18SENR',\n",
       "       'G18GOVD', 'G18GOVR', 'G18COMD', 'G18COMR', 'G18ATGD', 'G18ATGR',\n",
       "       'geometry'],\n",
       "      dtype='object')"
      ]
     },
     "execution_count": 4,
     "metadata": {},
     "output_type": "execute_result"
    }
   ],
   "source": [
    "election_df.columns"
   ]
  },
  {
   "cell_type": "markdown",
   "metadata": {},
   "source": [
    "#### Find the column from ```cong_df``` that gives us the unique district identifier"
   ]
  },
  {
   "cell_type": "code",
   "execution_count": 5,
   "metadata": {},
   "outputs": [
    {
     "data": {
      "text/html": [
       "<div>\n",
       "<style scoped>\n",
       "    .dataframe tbody tr th:only-of-type {\n",
       "        vertical-align: middle;\n",
       "    }\n",
       "\n",
       "    .dataframe tbody tr th {\n",
       "        vertical-align: top;\n",
       "    }\n",
       "\n",
       "    .dataframe thead th {\n",
       "        text-align: right;\n",
       "    }\n",
       "</style>\n",
       "<table border=\"1\" class=\"dataframe\">\n",
       "  <thead>\n",
       "    <tr style=\"text-align: right;\">\n",
       "      <th></th>\n",
       "      <th>OBJECTID</th>\n",
       "      <th>Shape_Leng</th>\n",
       "      <th>Shape_Area</th>\n",
       "      <th>DISTRICT</th>\n",
       "      <th>geometry</th>\n",
       "    </tr>\n",
       "  </thead>\n",
       "  <tbody>\n",
       "    <tr>\n",
       "      <th>0</th>\n",
       "      <td>1</td>\n",
       "      <td>398240.168961</td>\n",
       "      <td>4.747143e+09</td>\n",
       "      <td>1</td>\n",
       "      <td>POLYGON ((742169.526 4532898.369, 736334.250 4...</td>\n",
       "    </tr>\n",
       "    <tr>\n",
       "      <th>1</th>\n",
       "      <td>2</td>\n",
       "      <td>207672.858852</td>\n",
       "      <td>1.482939e+09</td>\n",
       "      <td>2</td>\n",
       "      <td>POLYGON ((693595.108 4531758.179, 693510.421 4...</td>\n",
       "    </tr>\n",
       "    <tr>\n",
       "      <th>2</th>\n",
       "      <td>3</td>\n",
       "      <td>146813.371952</td>\n",
       "      <td>6.453502e+08</td>\n",
       "      <td>3</td>\n",
       "      <td>POLYGON ((632044.962 4535980.849, 632198.219 4...</td>\n",
       "    </tr>\n",
       "    <tr>\n",
       "      <th>3</th>\n",
       "      <td>4</td>\n",
       "      <td>100444.291013</td>\n",
       "      <td>4.891851e+08</td>\n",
       "      <td>4</td>\n",
       "      <td>POLYGON ((622128.271 4510545.013, 622090.862 4...</td>\n",
       "    </tr>\n",
       "    <tr>\n",
       "      <th>4</th>\n",
       "      <td>5</td>\n",
       "      <td>113036.578196</td>\n",
       "      <td>2.913121e+08</td>\n",
       "      <td>5</td>\n",
       "      <td>POLYGON ((603301.333 4509330.502, 603368.523 4...</td>\n",
       "    </tr>\n",
       "  </tbody>\n",
       "</table>\n",
       "</div>"
      ],
      "text/plain": [
       "   OBJECTID     Shape_Leng    Shape_Area  DISTRICT  \\\n",
       "0         1  398240.168961  4.747143e+09         1   \n",
       "1         2  207672.858852  1.482939e+09         2   \n",
       "2         3  146813.371952  6.453502e+08         3   \n",
       "3         4  100444.291013  4.891851e+08         4   \n",
       "4         5  113036.578196  2.913121e+08         5   \n",
       "\n",
       "                                            geometry  \n",
       "0  POLYGON ((742169.526 4532898.369, 736334.250 4...  \n",
       "1  POLYGON ((693595.108 4531758.179, 693510.421 4...  \n",
       "2  POLYGON ((632044.962 4535980.849, 632198.219 4...  \n",
       "3  POLYGON ((622128.271 4510545.013, 622090.862 4...  \n",
       "4  POLYGON ((603301.333 4509330.502, 603368.523 4...  "
      ]
     },
     "execution_count": 5,
     "metadata": {},
     "output_type": "execute_result"
    }
   ],
   "source": [
    "cong_df.head()"
   ]
  },
  {
   "cell_type": "markdown",
   "metadata": {},
   "source": [
    "##### *We'll save column DISTRICT for later*"
   ]
  },
  {
   "cell_type": "code",
   "execution_count": 6,
   "metadata": {},
   "outputs": [],
   "source": [
    "district_col_name = \"DISTRICT\""
   ]
  },
  {
   "cell_type": "markdown",
   "metadata": {},
   "source": [
    "#### Next we need to align the precincts from the 2018 data with the 2020 census data, but first we must make sure the CRS values match"
   ]
  },
  {
   "cell_type": "code",
   "execution_count": 7,
   "metadata": {},
   "outputs": [
    {
     "name": "stdout",
     "output_type": "stream",
     "text": [
      "EPSG:4269\n",
      "EPSG:26918\n",
      "EPSG:3857\n"
     ]
    }
   ],
   "source": [
    "print(population_df.crs)\n",
    "print(cong_df.crs)\n",
    "print(election_df.crs)"
   ]
  },
  {
   "cell_type": "markdown",
   "metadata": {},
   "source": [
    "##### Looks like the CRS values don't match. This will cause issues while calling ```maup.assign()```, so let's update them to match `population_df`"
   ]
  },
  {
   "cell_type": "code",
   "execution_count": 8,
   "metadata": {},
   "outputs": [
    {
     "name": "stdout",
     "output_type": "stream",
     "text": [
      "EPSG:4269\n",
      "EPSG:4269\n"
     ]
    }
   ],
   "source": [
    "election_df.to_crs(population_df.crs, inplace=True)\n",
    "cong_df.to_crs(population_df.crs, inplace=True)\n",
    "\n",
    "print(election_df.crs)\n",
    "print(cong_df.crs)"
   ]
  },
  {
   "cell_type": "markdown",
   "metadata": {},
   "source": [
    "#### Great! Now lets go ahead and get our mappings between the census and election data"
   ]
  },
  {
   "cell_type": "code",
   "execution_count": 9,
   "metadata": {},
   "outputs": [
    {
     "name": "stderr",
     "output_type": "stream",
     "text": [
      "100%|██████████| 14191/14191 [00:03<00:00, 3792.32it/s]\n",
      "100%|██████████| 14191/14191 [00:12<00:00, 1179.83it/s]\n",
      "/Users/rishab/Library/Python/3.9/lib/python/site-packages/maup/intersections.py:47: UserWarning: Geometry is in a geographic CRS. Results from 'area' are likely incorrect. Use 'GeoSeries.to_crs()' to re-project geometries to a projected CRS before this operation.\n",
      "\n",
      "  df = df[df.area > area_cutoff].reset_index(drop=True)\n",
      "/Users/rishab/Library/Python/3.9/lib/python/site-packages/maup/intersections.py:48: UserWarning: Geometry is in a geographic CRS. Results from 'area' are likely incorrect. Use 'GeoSeries.to_crs()' to re-project geometries to a projected CRS before this operation.\n",
      "\n",
      "  geometries = geometries[geometries.area > area_cutoff]\n",
      "/Users/rishab/Library/Python/3.9/lib/python/site-packages/maup/assign.py:38: UserWarning: Geometry is in a geographic CRS. Results from 'area' are likely incorrect. Use 'GeoSeries.to_crs()' to re-project geometries to a projected CRS before this operation.\n",
      "\n",
      "  return assign_to_max(intersections(sources, targets, area_cutoff=0).area)\n"
     ]
    }
   ],
   "source": [
    "vtds_to_precincts_assignment = maup.assign(election_df.geometry, population_df.geometry)"
   ]
  },
  {
   "cell_type": "markdown",
   "metadata": {},
   "source": [
    "##### A lot of these columns names don't make sense, but we'll copy the population data columns from `population_df` into `election_df` for now"
   ]
  },
  {
   "cell_type": "code",
   "execution_count": 10,
   "metadata": {},
   "outputs": [],
   "source": [
    "pop_column_names = ['P0020001', 'P0020002', 'P0020005', 'P0020006',\n",
    "                    'P0020007', 'P0020008', 'P0020009', 'P0020010']\n",
    "\n",
    "vap_column_names = ['P0040001', 'P0040002', 'P0040005', 'P0040006',\n",
    "                    'P0040007', 'P0040008', 'P0040009', 'P0040010']"
   ]
  },
  {
   "cell_type": "code",
   "execution_count": 11,
   "metadata": {},
   "outputs": [
    {
     "data": {
      "text/html": [
       "<div>\n",
       "<style scoped>\n",
       "    .dataframe tbody tr th:only-of-type {\n",
       "        vertical-align: middle;\n",
       "    }\n",
       "\n",
       "    .dataframe tbody tr th {\n",
       "        vertical-align: top;\n",
       "    }\n",
       "\n",
       "    .dataframe thead th {\n",
       "        text-align: right;\n",
       "    }\n",
       "</style>\n",
       "<table border=\"1\" class=\"dataframe\">\n",
       "  <thead>\n",
       "    <tr style=\"text-align: right;\">\n",
       "      <th></th>\n",
       "      <th>P0020001</th>\n",
       "      <th>P0020002</th>\n",
       "      <th>P0020005</th>\n",
       "      <th>P0020006</th>\n",
       "      <th>P0020007</th>\n",
       "      <th>P0020008</th>\n",
       "      <th>P0020009</th>\n",
       "      <th>P0020010</th>\n",
       "    </tr>\n",
       "  </thead>\n",
       "  <tbody>\n",
       "    <tr>\n",
       "      <th>0</th>\n",
       "      <td>813.0</td>\n",
       "      <td>479.0</td>\n",
       "      <td>251.0</td>\n",
       "      <td>43.0</td>\n",
       "      <td>3.0</td>\n",
       "      <td>1.0</td>\n",
       "      <td>0.0</td>\n",
       "      <td>8.0</td>\n",
       "    </tr>\n",
       "    <tr>\n",
       "      <th>1</th>\n",
       "      <td>2798.0</td>\n",
       "      <td>338.0</td>\n",
       "      <td>2241.0</td>\n",
       "      <td>63.0</td>\n",
       "      <td>12.0</td>\n",
       "      <td>11.0</td>\n",
       "      <td>1.0</td>\n",
       "      <td>5.0</td>\n",
       "    </tr>\n",
       "    <tr>\n",
       "      <th>2</th>\n",
       "      <td>1395.0</td>\n",
       "      <td>130.0</td>\n",
       "      <td>1106.0</td>\n",
       "      <td>33.0</td>\n",
       "      <td>7.0</td>\n",
       "      <td>22.0</td>\n",
       "      <td>0.0</td>\n",
       "      <td>7.0</td>\n",
       "    </tr>\n",
       "    <tr>\n",
       "      <th>3</th>\n",
       "      <td>3696.0</td>\n",
       "      <td>494.0</td>\n",
       "      <td>2933.0</td>\n",
       "      <td>84.0</td>\n",
       "      <td>17.0</td>\n",
       "      <td>5.0</td>\n",
       "      <td>1.0</td>\n",
       "      <td>10.0</td>\n",
       "    </tr>\n",
       "    <tr>\n",
       "      <th>4</th>\n",
       "      <td>1116.0</td>\n",
       "      <td>23.0</td>\n",
       "      <td>1056.0</td>\n",
       "      <td>4.0</td>\n",
       "      <td>0.0</td>\n",
       "      <td>1.0</td>\n",
       "      <td>0.0</td>\n",
       "      <td>0.0</td>\n",
       "    </tr>\n",
       "  </tbody>\n",
       "</table>\n",
       "</div>"
      ],
      "text/plain": [
       "   P0020001  P0020002  P0020005  P0020006  P0020007  P0020008  P0020009  \\\n",
       "0     813.0     479.0     251.0      43.0       3.0       1.0       0.0   \n",
       "1    2798.0     338.0    2241.0      63.0      12.0      11.0       1.0   \n",
       "2    1395.0     130.0    1106.0      33.0       7.0      22.0       0.0   \n",
       "3    3696.0     494.0    2933.0      84.0      17.0       5.0       1.0   \n",
       "4    1116.0      23.0    1056.0       4.0       0.0       1.0       0.0   \n",
       "\n",
       "   P0020010  \n",
       "0       8.0  \n",
       "1       5.0  \n",
       "2       7.0  \n",
       "3      10.0  \n",
       "4       0.0  "
      ]
     },
     "execution_count": 11,
     "metadata": {},
     "output_type": "execute_result"
    }
   ],
   "source": [
    "election_df[pop_column_names] = population_df[pop_column_names].groupby(vtds_to_precincts_assignment).sum()\n",
    "\n",
    "election_df[pop_column_names].head()"
   ]
  },
  {
   "cell_type": "markdown",
   "metadata": {},
   "source": [
    "#### Time to check to see if we lost any of the population in the merge"
   ]
  },
  {
   "cell_type": "code",
   "execution_count": 12,
   "metadata": {},
   "outputs": [
    {
     "name": "stdout",
     "output_type": "stream",
     "text": [
      "population_df:\n",
      "P0020001    20201249\n",
      "P0020002     3948032\n",
      "P0020005    10598907\n",
      "P0020006     2759022\n",
      "P0020007       54908\n",
      "P0020008     1916329\n",
      "P0020009        6097\n",
      "P0020010      197107\n",
      "dtype: int64\n",
      "election_df:\n",
      "P0020001    20201249.0\n",
      "P0020002     3948032.0\n",
      "P0020005    10598907.0\n",
      "P0020006     2759022.0\n",
      "P0020007       54908.0\n",
      "P0020008     1916329.0\n",
      "P0020009        6097.0\n",
      "P0020010      197107.0\n",
      "dtype: float64\n"
     ]
    }
   ],
   "source": [
    "print('population_df:')\n",
    "print(population_df[pop_column_names].sum())\n",
    "\n",
    "print('election_df:')\n",
    "print(election_df[pop_column_names].sum())"
   ]
  },
  {
   "cell_type": "markdown",
   "metadata": {},
   "source": [
    "#### And now comes the mapping between 2018 and 2020 data using `maup.prorate`. This will give us population weights that we can use to reassign the district population to the 2020 districts"
   ]
  },
  {
   "cell_type": "code",
   "execution_count": 13,
   "metadata": {},
   "outputs": [],
   "source": [
    "weights2018 = population_df[\"P0040001\"] / vtds_to_precincts_assignment.map(population_df[\"P0040001\"].groupby(vtds_to_precincts_assignment).sum())\n",
    "weights2018 = weights2018.fillna(0)"
   ]
  },
  {
   "cell_type": "code",
   "execution_count": 14,
   "metadata": {},
   "outputs": [
    {
     "data": {
      "text/html": [
       "<div>\n",
       "<style scoped>\n",
       "    .dataframe tbody tr th:only-of-type {\n",
       "        vertical-align: middle;\n",
       "    }\n",
       "\n",
       "    .dataframe tbody tr th {\n",
       "        vertical-align: top;\n",
       "    }\n",
       "\n",
       "    .dataframe thead th {\n",
       "        text-align: right;\n",
       "    }\n",
       "</style>\n",
       "<table border=\"1\" class=\"dataframe\">\n",
       "  <thead>\n",
       "    <tr style=\"text-align: right;\">\n",
       "      <th></th>\n",
       "      <th>P0020001</th>\n",
       "      <th>P0020002</th>\n",
       "      <th>P0020005</th>\n",
       "      <th>P0020006</th>\n",
       "      <th>P0020007</th>\n",
       "      <th>P0020008</th>\n",
       "      <th>P0020009</th>\n",
       "      <th>P0020010</th>\n",
       "    </tr>\n",
       "  </thead>\n",
       "  <tbody>\n",
       "    <tr>\n",
       "      <th>0</th>\n",
       "      <td>617.740727</td>\n",
       "      <td>69.604589</td>\n",
       "      <td>458.048948</td>\n",
       "      <td>41.327725</td>\n",
       "      <td>3.987763</td>\n",
       "      <td>22.29522</td>\n",
       "      <td>0.0</td>\n",
       "      <td>2.537667</td>\n",
       "    </tr>\n",
       "    <tr>\n",
       "      <th>1</th>\n",
       "      <td>2477.000000</td>\n",
       "      <td>142.000000</td>\n",
       "      <td>2143.000000</td>\n",
       "      <td>11.000000</td>\n",
       "      <td>11.000000</td>\n",
       "      <td>47.00000</td>\n",
       "      <td>0.0</td>\n",
       "      <td>12.000000</td>\n",
       "    </tr>\n",
       "    <tr>\n",
       "      <th>2</th>\n",
       "      <td>3393.000000</td>\n",
       "      <td>612.000000</td>\n",
       "      <td>1517.000000</td>\n",
       "      <td>1141.000000</td>\n",
       "      <td>21.000000</td>\n",
       "      <td>18.00000</td>\n",
       "      <td>1.0</td>\n",
       "      <td>14.000000</td>\n",
       "    </tr>\n",
       "    <tr>\n",
       "      <th>3</th>\n",
       "      <td>1490.000000</td>\n",
       "      <td>134.000000</td>\n",
       "      <td>1050.000000</td>\n",
       "      <td>154.000000</td>\n",
       "      <td>1.000000</td>\n",
       "      <td>23.00000</td>\n",
       "      <td>0.0</td>\n",
       "      <td>9.000000</td>\n",
       "    </tr>\n",
       "    <tr>\n",
       "      <th>4</th>\n",
       "      <td>1497.000000</td>\n",
       "      <td>45.000000</td>\n",
       "      <td>1349.000000</td>\n",
       "      <td>6.000000</td>\n",
       "      <td>4.000000</td>\n",
       "      <td>4.00000</td>\n",
       "      <td>0.0</td>\n",
       "      <td>3.000000</td>\n",
       "    </tr>\n",
       "  </tbody>\n",
       "</table>\n",
       "</div>"
      ],
      "text/plain": [
       "      P0020001    P0020002     P0020005     P0020006   P0020007  P0020008  \\\n",
       "0   617.740727   69.604589   458.048948    41.327725   3.987763  22.29522   \n",
       "1  2477.000000  142.000000  2143.000000    11.000000  11.000000  47.00000   \n",
       "2  3393.000000  612.000000  1517.000000  1141.000000  21.000000  18.00000   \n",
       "3  1490.000000  134.000000  1050.000000   154.000000   1.000000  23.00000   \n",
       "4  1497.000000   45.000000  1349.000000     6.000000   4.000000   4.00000   \n",
       "\n",
       "   P0020009   P0020010  \n",
       "0       0.0   2.537667  \n",
       "1       0.0  12.000000  \n",
       "2       1.0  14.000000  \n",
       "3       0.0   9.000000  \n",
       "4       0.0   3.000000  "
      ]
     },
     "execution_count": 14,
     "metadata": {},
     "output_type": "execute_result"
    }
   ],
   "source": [
    "prorated2018 = maup.prorate(vtds_to_precincts_assignment, election_df[pop_column_names], weights2018)\n",
    "\n",
    "prorated2018.head()"
   ]
  },
  {
   "cell_type": "markdown",
   "metadata": {},
   "source": [
    "#### Next we'll store the prorated election columns from `election_df` in `population_df`"
   ]
  },
  {
   "cell_type": "code",
   "execution_count": 15,
   "metadata": {},
   "outputs": [],
   "source": [
    "election_cols = [\"G18SEND\", \"G18SENR\", \"G18GOVD\", \"G18GOVR\", \"G18COMD\", \"G18COMR\", \"G18ATGD\", \"G18ATGR\"]\n",
    "\n",
    "population_df[election_cols] = prorated2018"
   ]
  },
  {
   "cell_type": "markdown",
   "metadata": {},
   "source": [
    "#### One more check to make sure we didn't lose anyone in the proration step"
   ]
  },
  {
   "cell_type": "code",
   "execution_count": 16,
   "metadata": {},
   "outputs": [
    {
     "name": "stdout",
     "output_type": "stream",
     "text": [
      "P0020001    20201249\n",
      "P0020002     3948032\n",
      "P0020005    10598907\n",
      "P0020006     2759022\n",
      "P0020007       54908\n",
      "P0020008     1916329\n",
      "P0020009        6097\n",
      "P0020010      197107\n",
      "dtype: int64\n",
      "P0020001    20201249.0\n",
      "P0020002     3948032.0\n",
      "P0020005    10598907.0\n",
      "P0020006     2759022.0\n",
      "P0020007       54908.0\n",
      "P0020008     1916329.0\n",
      "P0020009        6097.0\n",
      "P0020010      197107.0\n",
      "dtype: float64\n"
     ]
    }
   ],
   "source": [
    "print(population_df[pop_column_names].sum())\n",
    "print(election_df[pop_column_names].sum())"
   ]
  },
  {
   "cell_type": "markdown",
   "metadata": {},
   "source": [
    "#### Perfect! Now that we know we haven't lost anyone, let's make sure `maup.doctor()` runs without any holes in the map"
   ]
  },
  {
   "cell_type": "code",
   "execution_count": 17,
   "metadata": {},
   "outputs": [
    {
     "name": "stderr",
     "output_type": "stream",
     "text": [
      "100%|██████████| 14191/14191 [00:07<00:00, 1900.54it/s]\n",
      "/Users/rishab/Library/Python/3.9/lib/python/site-packages/maup/repair.py:331: UserWarning: Geometry is in a geographic CRS. Results from 'area' are likely incorrect. Use 'GeoSeries.to_crs()' to re-project geometries to a projected CRS before this operation.\n",
      "\n",
      "  overlaps = inters[inters.area > 0].make_valid()\n"
     ]
    },
    {
     "data": {
      "text/plain": [
       "True"
      ]
     },
     "execution_count": 17,
     "metadata": {},
     "output_type": "execute_result"
    }
   ],
   "source": [
    "maup.doctor(population_df)"
   ]
  },
  {
   "cell_type": "markdown",
   "metadata": {},
   "source": [
    "#### This step will feel familiar, we'll call `maup.assign()` to map the congressional districts from `cong_df` to the precincts in `population_df`\n",
    "#### Once we have this assignment, we'll add a new `CD` column to `population_df` with the district that the given precinct falls under"
   ]
  },
  {
   "cell_type": "code",
   "execution_count": 18,
   "metadata": {},
   "outputs": [
    {
     "name": "stderr",
     "output_type": "stream",
     "text": [
      "100%|██████████| 28/28 [00:00<00:00, 148.49it/s]\n",
      "100%|██████████| 28/28 [00:00<00:00, 36.49it/s]\n",
      "/Users/rishab/Library/Python/3.9/lib/python/site-packages/maup/intersections.py:47: UserWarning: Geometry is in a geographic CRS. Results from 'area' are likely incorrect. Use 'GeoSeries.to_crs()' to re-project geometries to a projected CRS before this operation.\n",
      "\n",
      "  df = df[df.area > area_cutoff].reset_index(drop=True)\n",
      "/Users/rishab/Library/Python/3.9/lib/python/site-packages/maup/intersections.py:48: UserWarning: Geometry is in a geographic CRS. Results from 'area' are likely incorrect. Use 'GeoSeries.to_crs()' to re-project geometries to a projected CRS before this operation.\n",
      "\n",
      "  geometries = geometries[geometries.area > area_cutoff]\n",
      "/Users/rishab/Library/Python/3.9/lib/python/site-packages/maup/assign.py:38: UserWarning: Geometry is in a geographic CRS. Results from 'area' are likely incorrect. Use 'GeoSeries.to_crs()' to re-project geometries to a projected CRS before this operation.\n",
      "\n",
      "  return assign_to_max(intersections(sources, targets, area_cutoff=0).area)\n"
     ]
    }
   ],
   "source": [
    "precincts_to_districts_assignment = maup.assign(population_df.geometry, cong_df.geometry)\n",
    "population_df[\"CD\"] = precincts_to_districts_assignment\n",
    "\n",
    "for precinct_index in range(len(population_df)):\n",
    "    population_df.at[precinct_index, \"CD\"] = int(cong_df.at[population_df.at[precinct_index, \"CD\"], district_col_name])"
   ]
  },
  {
   "cell_type": "markdown",
   "metadata": {},
   "source": [
    "#### Almost done! Now it's time to rename those columns from before so that we know what they stand for"
   ]
  },
  {
   "cell_type": "code",
   "execution_count": 19,
   "metadata": {},
   "outputs": [
    {
     "data": {
      "text/plain": [
       "Index(['STATEFP20', 'COUNTYFP20', 'VTDST20', 'GEOID20', 'VTDI20', 'NAME20',\n",
       "       'NAMELSAD20', 'LSAD20', 'MTFCC20', 'FUNCSTAT20',\n",
       "       ...\n",
       "       'geometry', 'G18SEND', 'G18SENR', 'G18GOVD', 'G18GOVR', 'G18COMD',\n",
       "       'G18COMR', 'G18ATGD', 'G18ATGR', 'CD'],\n",
       "      dtype='object', length=357)"
      ]
     },
     "execution_count": 19,
     "metadata": {},
     "output_type": "execute_result"
    }
   ],
   "source": [
    "rename_dict = {'P0020001': 'TOTPOP', 'P0020002': 'HISP', 'P0020005': 'NH_WHITE', 'P0020006': 'NH_BLACK', 'P0020007': 'NH_AMIN',\n",
    "                    'P0020008': 'NH_ASIAN', 'P0020009': 'NH_NHPI', 'P0020010': 'NH_OTHER',\n",
    "                    'P0040001': 'VAP', 'P0040002': 'HVAP', 'P0040005': 'WVAP', 'P0040006': 'BVAP', 'P0040007': 'AMINVAP',\n",
    "                                        'P0040008': 'ASIANVAP', 'P0040009': 'NHPIVAP', 'P0040010': 'OTHERVAP'}\n",
    "\n",
    "population_df.rename(columns=rename_dict, inplace=True)\n",
    "\n",
    "population_df.columns"
   ]
  },
  {
   "cell_type": "markdown",
   "metadata": {},
   "source": [
    "#### Finally, our last step is to save our dataframe into a shapefile we can use for future analysis!"
   ]
  },
  {
   "cell_type": "code",
   "execution_count": 20,
   "metadata": {},
   "outputs": [],
   "source": [
    "population_df.to_file(\"./NY/NY.shp\")"
   ]
  }
 ],
 "metadata": {
  "kernelspec": {
   "display_name": "gerry",
   "language": "python",
   "name": "python3"
  },
  "language_info": {
   "codemirror_mode": {
    "name": "ipython",
    "version": 3
   },
   "file_extension": ".py",
   "mimetype": "text/x-python",
   "name": "python",
   "nbconvert_exporter": "python",
   "pygments_lexer": "ipython3",
   "version": "3.9.6"
  }
 },
 "nbformat": 4,
 "nbformat_minor": 2
}
