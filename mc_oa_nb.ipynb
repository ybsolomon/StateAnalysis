{
 "cells": [
  {
   "cell_type": "markdown",
   "id": "8bad29cb-9594-4d3a-8cb8-a7330724120d",
   "metadata": {},
   "source": [
    "# Markov Chain Outlier Analysis"
   ]
  },
  {
   "cell_type": "markdown",
   "id": "b3d1ef29-03f8-4d6a-89b2-31a3fc17c88a",
   "metadata": {},
   "source": [
    "### Imports"
   ]
  },
  {
   "cell_type": "code",
   "execution_count": 1,
   "id": "1a4a5c34-feac-4cf5-9631-8461e58406aa",
   "metadata": {},
   "outputs": [],
   "source": [
    "import time\n",
    "\n",
    "from metrics import *\n",
    "from RedistrictingMarkovChain import RedistrictingMarkovChain\n",
    "\n",
    "from gerrychain import Graph\n",
    "import matplotlib.pyplot as plt"
   ]
  },
  {
   "cell_type": "markdown",
   "id": "83bbf597-d29b-4ca0-b14c-5ace8eb5b0fd",
   "metadata": {},
   "source": [
    "### Load Data"
   ]
  },
  {
   "cell_type": "markdown",
   "id": "d653cdb7-6094-45e9-92f2-43e6b4877363",
   "metadata": {},
   "source": [
    "Estimated time to load graph (MacBook Pro Intel chip):  \n",
    "~9 minutes"
   ]
  },
  {
   "cell_type": "code",
   "execution_count": 2,
   "id": "c2238994-75cf-4e4e-b0ab-7f09b6266518",
   "metadata": {},
   "outputs": [
    {
     "name": "stdout",
     "output_type": "stream",
     "text": [
      "Starting graph load\n"
     ]
    },
    {
     "name": "stderr",
     "output_type": "stream",
     "text": [
      "/Users/travisoleson/anaconda3/envs/ei/lib/python3.11/site-packages/gerrychain/graph/graph.py:388: UserWarning: Found islands (degree-0 nodes). Indices of islands: {134451, 134452}\n",
      "  warnings.warn(\n",
      "/Users/travisoleson/anaconda3/envs/ei/lib/python3.11/site-packages/gerrychain/graph/graph.py:262: UserWarning: Geometry is in a geographic CRS. Results from 'area' are likely incorrect. Use 'GeoSeries.to_crs()' to re-project geometries to a projected CRS before this operation.\n",
      "\n",
      "  areas = df.geometry.area.to_dict()\n"
     ]
    },
    {
     "name": "stdout",
     "output_type": "stream",
     "text": [
      "Graph loaded\n",
      "Graph load time: 8.667707415421804 minutes\n"
     ]
    }
   ],
   "source": [
    "start_time = time.time()\n",
    "print(\"Starting graph load\")\n",
    "ny_graph = Graph.from_file(\"./NY-lab/NY.shp\")\n",
    "print(\"Graph loaded\")\n",
    "end_time = time.time()\n",
    "\n",
    "print(f\"Graph load time: {(end_time - start_time) / 60} minutes\")"
   ]
  },
  {
   "cell_type": "markdown",
   "id": "dc8987ff-f9db-4666-9c5c-82c77aeb2c5e",
   "metadata": {},
   "source": [
    "### Create Markov Chain"
   ]
  },
  {
   "cell_type": "code",
   "execution_count": 3,
   "id": "2981f778-4141-4b27-a685-1f7b6b8a4841",
   "metadata": {},
   "outputs": [],
   "source": [
    "STEPS = [1000, 5000, 10000, 20000, 50000, 100000]\n",
    "election = {\"name\": \"G20PRE\", \"dem\": \"G20PRED\", \"rep\": \"G20PRER\"}\n",
    "pop_tol = 0.03"
   ]
  },
  {
   "cell_type": "code",
   "execution_count": 4,
   "id": "6c0280e4-40ec-4c5b-b162-f2637d715c5a",
   "metadata": {},
   "outputs": [],
   "source": [
    "elec_name = election.get(\"name\")"
   ]
  },
  {
   "cell_type": "code",
   "execution_count": 5,
   "id": "37e32db2-6022-4681-bf91-169657cb461f",
   "metadata": {},
   "outputs": [],
   "source": [
    "ny_markov_chain = RedistrictingMarkovChain(ny_graph,\n",
    "                                                   26,\n",
    "                                                   \"CD\",\n",
    "                                                   election[\"name\"],\n",
    "                                                   election[\"dem\"],\n",
    "                                                   election[\"rep\"],\n",
    "                                                   \"TOTPOP\",\n",
    "                                                   \"HISP\",\n",
    "                                                   \"BVAP\",\n",
    "                                                   pop_tolerance=pop_tol)"
   ]
  },
  {
   "cell_type": "markdown",
   "id": "63ff2d74-660d-4380-95ad-acd9bed76b75",
   "metadata": {},
   "source": [
    "### Define Helping Functions"
   ]
  },
  {
   "cell_type": "markdown",
   "id": "9555f1ca-4873-4ec7-8f0d-05500201ffe1",
   "metadata": {},
   "source": [
    "Function gets the initial values from the current map on each of the metrics"
   ]
  },
  {
   "cell_type": "code",
   "execution_count": 6,
   "id": "81ab6b34-724a-4baf-8279-87161a838b86",
   "metadata": {},
   "outputs": [],
   "source": [
    "def get_initial_vals(initial_partition):\n",
    "    \n",
    "    _ce = ce(initial_partition)\n",
    "    _lmaj = md(initial_partition, \"HISP\")\n",
    "    _bmaj = md(initial_partition, \"BVAP\")\n",
    "    _dwin = pd(initial_partition, \"G20PRE\", \"Democratic\")\n",
    "    _mmd = mm(initial_partition, \"G20PRE\", \"Democratic\")\n",
    "    _eg = eg(initial_partition, \"G20PRE\")\n",
    "    _pb = pb(initial_partition, \"G20PRE\", \"Democratic\")\n",
    "\n",
    "    return _ce, _lmaj, _bmaj, _dwin, _mmd, _eg, _pb"
   ]
  },
  {
   "cell_type": "markdown",
   "id": "845d49b3-eaba-46c3-bb31-b884aed47a42",
   "metadata": {},
   "source": [
    "Function gets plots each of the metrics' histograms"
   ]
  },
  {
   "cell_type": "code",
   "execution_count": 7,
   "id": "14341899-1e8a-43de-b260-7f7a440c9167",
   "metadata": {},
   "outputs": [],
   "source": [
    "def plot_histograms_nb(ensemble, filename, title, value, bins=10, format=False, xlabel=None, ylabel=None):\n",
    "    plt.figure()\n",
    "    plt.title(f\"{title} Histogram\")\n",
    "    plt.axvline(x=value, color=\"red\", linestyle=\"--\", linewidth=2, alpha=0.7)\n",
    "    if xlabel is not None and ylabel is not None:\n",
    "        plt.xlabel(xlabel)\n",
    "        plt.ylabel(ylabel)\n",
    "    if format:\n",
    "        # plt.gca().xaxis.set_major_formatter(FormatStrFormatter('%.3f'))\n",
    "        plt.xticks(rotation=45, ha='right')\n",
    "    plt.hist(ensemble, bins=bins, alpha=0.6, align=\"left\")  # left\n",
    "    # bin_centers = np.arange(len(bins) - 1)\n",
    "    # plt.xticks(bin_centers + 0.5, bins[:-1])\n",
    "    plt.savefig(filename)\n",
    "    plt.close()"
   ]
  },
  {
   "cell_type": "markdown",
   "id": "abf463dc-1039-42a7-ba61-241053ef4ad9",
   "metadata": {},
   "source": [
    "### Proof of Concept"
   ]
  },
  {
   "cell_type": "markdown",
   "id": "1aa7b581-a192-4130-b77f-d3b032be6976",
   "metadata": {},
   "source": [
    "Initialize Markov Chain with 200 steps to test functionality"
   ]
  },
  {
   "cell_type": "code",
   "execution_count": 8,
   "id": "da2f13e8-39ea-474a-b1ae-e2a56542df2b",
   "metadata": {},
   "outputs": [],
   "source": [
    "ny_init_state = ny_markov_chain.init_markov_chain(steps=200)\n",
    "ce_init, hisp_init, black_init, dem_init, mm_init, eg_init, pb_init = get_initial_vals(ny_init_state.initial_state)"
   ]
  },
  {
   "cell_type": "markdown",
   "id": "3ddf5696-b50e-4be9-9bd8-888781cf4c4b",
   "metadata": {},
   "source": [
    "Analyze the Markov Chain"
   ]
  },
  {
   "cell_type": "code",
   "execution_count": 9,
   "id": "f39be2fc-7e1b-4e33-99c2-d36f6b1379df",
   "metadata": {},
   "outputs": [
    {
     "name": "stdout",
     "output_type": "stream",
     "text": [
      "Walking the ensemble\n",
      "Walk complete\n",
      "Markov Chain time (steps=200): 0.08124196529388428 minutes\n"
     ]
    }
   ],
   "source": [
    "start_time = time.time()\n",
    "\n",
    "cutedge_ensemble, lmaj_ensemble, bmaj_ensemble, dem_win_ensemble, mmd_ensemble, eg_ensemble, pb_ensemble = ny_markov_chain.walk_the_run()\n",
    "\n",
    "# Save test histograms\n",
    "# 1. Cut edge\n",
    "plot_histograms_nb(cutedge_ensemble,\n",
    "                f\"test_histograms/test_cutedge_ensemble_200_{pop_tol}_{elec_name}.png\",\n",
    "                \"Cut Edges\",\n",
    "                ce_init,\n",
    "                xlabel=\"Cut edges\",\n",
    "                ylabel=\"Frequency\"\n",
    "               )\n",
    "# 2. Majority-Latino districts\n",
    "plot_histograms_nb(lmaj_ensemble,\n",
    "                f\"test_histograms/test_lmaj_ensemble_200_{pop_tol}_{elec_name}.png\",\n",
    "                \"Hispanic Majority Districts\",\n",
    "                hisp_init,\n",
    "                bins=range(int(min(lmaj_ensemble)) - 3, int(max(lmaj_ensemble)) + 5),\n",
    "                xlabel=\"Hispanic-Majority Districts\",\n",
    "                ylabel=\"Frequency\"\n",
    "               )\n",
    "# 3. Majority-Black districts\n",
    "plot_histograms_nb(bmaj_ensemble,\n",
    "                f\"test_histograms/test_bmaj_ensemble_200_{pop_tol}_{elec_name}.png\",\n",
    "                \"Black Majority Districts\",\n",
    "                hisp_init,\n",
    "                bins=range(int(min(bmaj_ensemble)) - 3, int(max(bmaj_ensemble)) + 5),\n",
    "                xlabel=\"Black-Majority Districts\",\n",
    "                ylabel=\"Frequency\"\n",
    "               )\n",
    "# 4. Democratic-won districts\n",
    "plot_histograms_nb(dem_win_ensemble,\n",
    "                f\"test_histograms/test_dem_win_ensemble_200_{pop_tol}_{elec_name}.png\",\n",
    "                \"Democratic-Won Districts\",\n",
    "                dem_init,\n",
    "                bins=range(int(min(dem_win_ensemble)) - 3, int(max(dem_win_ensemble)) + 5),\n",
    "                xlabel=\"Democratic-Won Districts\",\n",
    "                ylabel=\"Frequency\"\n",
    "               )\n",
    "# 5. Mean-Median Difference\n",
    "plot_histograms_nb(mmd_ensemble,\n",
    "                f\"test_histograms/test_mmd_ensemble_200_{pop_tol}_{elec_name}.png\",\n",
    "                \"Mean-Median Difference\",\n",
    "                mm_init,\n",
    "                bins=30,\n",
    "                format=True,\n",
    "               )\n",
    "# 6. Efficiency Gap\n",
    "plot_histograms_nb(eg_ensemble,\n",
    "                f\"test_histograms/test_eg_ensemble_200_{pop_tol}_{elec_name}.png\",\n",
    "                \"Efficiency Gap\",\n",
    "                eg_init,\n",
    "                bins=30,\n",
    "                format=True,\n",
    "               )\n",
    "# 7. Partisan Bias\n",
    "plot_histograms_nb(pb_ensemble,\n",
    "                f\"test_histograms/test_pb_ensemble_200_{pop_tol}_{elec_name}.png\",\n",
    "                \"Partisan Bias\",\n",
    "                pb_init,\n",
    "                bins=30,\n",
    "                format=True,\n",
    "               )\n",
    "\n",
    "end_time = time.time()\n",
    "print(f\"Markov Chain time (steps=200): {(end_time - start_time) / 60} minutes\")"
   ]
  },
  {
   "cell_type": "markdown",
   "id": "ce8f1b4b-73c9-4a7d-8c08-ce331dfc2a71",
   "metadata": {},
   "source": [
    "# Markov Chain Analysis"
   ]
  },
  {
   "cell_type": "markdown",
   "id": "72ac4259-6318-4db8-ba8f-1fd76f41e79e",
   "metadata": {},
   "source": [
    "Using the variables at the top of the script, perform a thorough analysis of the Markov Chain"
   ]
  },
  {
   "cell_type": "markdown",
   "id": "d6e46f65-c16d-48ef-a172-9dca9f3525fa",
   "metadata": {},
   "source": [
    "Estimated time of completion per steps (MacBook Pro with Intel chip):  \n",
    "    - 1k: ~1 minutes  \n",
    "    - 5k: ~2 minutes  \n",
    "    - 10k: ~3 minutes  \n",
    "    - 20k: ~7 minutes  \n",
    "    - 50k: ~17 minutes  \n",
    "    - 100k: ~38 minutes  "
   ]
  },
  {
   "cell_type": "code",
   "execution_count": 13,
   "id": "4f04a9ab-ee6c-49ba-aca3-ddcd2d68b055",
   "metadata": {},
   "outputs": [
    {
     "name": "stdout",
     "output_type": "stream",
     "text": [
      "Walking the ensemble\n",
      "Walk complete\n",
      "Markov Chain time (steps=1000): 0.45683473348617554 minutes\n",
      "\n",
      "Walking the ensemble\n",
      "Walk complete\n",
      "Markov Chain time (steps=5000): 1.9451512018839519 minutes\n",
      "\n",
      "Walking the ensemble\n",
      "Walk complete\n",
      "Markov Chain time (steps=10000): 3.705683883031209 minutes\n",
      "\n",
      "Walking the ensemble\n",
      "Walk complete\n",
      "Markov Chain time (steps=20000): 7.393579097588857 minutes\n",
      "\n",
      "Walking the ensemble\n",
      "Walk complete\n",
      "Markov Chain time (steps=50000): 21.956915350755057 minutes\n",
      "\n",
      "Walking the ensemble\n",
      "Walk complete\n",
      "Markov Chain time (steps=100000): 34.13705266714096 minutes\n",
      "\n"
     ]
    }
   ],
   "source": [
    "for step in STEPS:\n",
    "    start_time = time.time()\n",
    "\n",
    "    ny_init_state = ny_markov_chain.init_markov_chain(steps=step)\n",
    "    ce_init, hisp_init, black_init, dem_init, mm_init, eg_init, pb_init = get_initial_vals(ny_init_state.initial_state)\n",
    "    cutedge_ensemble, lmaj_ensemble, bmaj_ensemble, dem_win_ensemble, mmd_ensemble, eg_ensemble, pb_ensemble = ny_markov_chain.walk_the_run()\n",
    "    \n",
    "    # Save test histograms\n",
    "    # 1. Cut edge\n",
    "    plot_histograms_nb(cutedge_ensemble,\n",
    "                    f\"histograms/random_flip_cutedge_ensemble_{step}_{pop_tol}_{elec_name}.png\",\n",
    "                    \"Cut Edges\",\n",
    "                    ce_init,\n",
    "                    xlabel=\"Cut edges\",\n",
    "                    ylabel=\"Frequency\"\n",
    "                   )\n",
    "    # 2. Majority-Latino districts\n",
    "    plot_histograms_nb(lmaj_ensemble,\n",
    "                    f\"histograms/random_flip_lmaj_ensemble_{step}_{pop_tol}_{elec_name}.png\",\n",
    "                    \"Hispanic Majority Districts\",\n",
    "                    hisp_init,\n",
    "                    bins=range(int(min(lmaj_ensemble)) - 3, int(max(lmaj_ensemble)) + 5),\n",
    "                    xlabel=\"Hispanic-Majority Districts\",\n",
    "                    ylabel=\"Frequency\"\n",
    "                   )\n",
    "    # 3. Majority-Black districts\n",
    "    plot_histograms_nb(bmaj_ensemble,\n",
    "                    f\"histograms/random_flip_bmaj_ensemble_{step}_{pop_tol}_{elec_name}.png\",\n",
    "                    \"Black Majority Districts\",\n",
    "                    hisp_init,\n",
    "                    bins=range(int(min(bmaj_ensemble)) - 3, int(max(bmaj_ensemble)) + 5),\n",
    "                    xlabel=\"Black-Majority Districts\",\n",
    "                    ylabel=\"Frequency\"\n",
    "                   )\n",
    "    # 4. Democratic-won districts\n",
    "    plot_histograms_nb(dem_win_ensemble,\n",
    "                    f\"histograms/random_flip_dem_win_ensemble_{step}_{pop_tol}_{elec_name}.png\",\n",
    "                    \"Democratic-Won Districts\",\n",
    "                    dem_init,\n",
    "                    bins=range(int(min(dem_win_ensemble)) - 3, int(max(dem_win_ensemble)) + 5),\n",
    "                    xlabel=\"Democratic-Won Districts\",\n",
    "                    ylabel=\"Frequency\"\n",
    "                   )\n",
    "    # 5. Mean-Median Difference\n",
    "    plot_histograms_nb(mmd_ensemble,\n",
    "                    f\"histograms/random_flip_mmd_ensemble_{step}_{pop_tol}_{elec_name}.png\",\n",
    "                    \"Mean-Median Difference\",\n",
    "                    mm_init,\n",
    "                    bins=30,\n",
    "                    format=True,\n",
    "                   )\n",
    "    # 6. Efficiency Gap\n",
    "    plot_histograms_nb(eg_ensemble,\n",
    "                    f\"histograms/random_flip_eg_ensemble_{step}_{pop_tol}_{elec_name}.png\",\n",
    "                    \"Efficiency Gap\",\n",
    "                    eg_init,\n",
    "                    bins=30,\n",
    "                    format=True,\n",
    "                   )\n",
    "    # 7. Partisan Bias\n",
    "    plot_histograms_nb(pb_ensemble,\n",
    "                    f\"histograms/random_flip_pb_ensemble_{step}_{pop_tol}_{elec_name}.png\",\n",
    "                    \"Partisan Bias\",\n",
    "                    pb_init,\n",
    "                    bins=30,\n",
    "                    format=True,\n",
    "                   )\n",
    "    \n",
    "    end_time = time.time()\n",
    "    print(f\"Markov Chain time (steps={step}): {(end_time - start_time) / 60} minutes\\n\")"
   ]
  },
  {
   "cell_type": "code",
   "execution_count": null,
   "id": "a4784609-4c27-494c-80c8-c2c288294749",
   "metadata": {},
   "outputs": [],
   "source": []
  }
 ],
 "metadata": {
  "kernelspec": {
   "display_name": "ei",
   "language": "python",
   "name": "ei"
  },
  "language_info": {
   "codemirror_mode": {
    "name": "ipython",
    "version": 3
   },
   "file_extension": ".py",
   "mimetype": "text/x-python",
   "name": "python",
   "nbconvert_exporter": "python",
   "pygments_lexer": "ipython3",
   "version": "3.11.8"
  }
 },
 "nbformat": 4,
 "nbformat_minor": 5
}
