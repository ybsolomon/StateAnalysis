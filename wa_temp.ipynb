{
 "cells": [
  {
   "cell_type": "code",
   "execution_count": 1,
   "metadata": {},
   "outputs": [
    {
     "name": "stdout",
     "output_type": "stream",
     "text": [
      "Starting graph load\n",
      "Graph loaded\n"
     ]
    },
    {
     "name": "stderr",
     "output_type": "stream",
     "text": [
      "/Users/rishab/Library/Python/3.9/lib/python/site-packages/gerrychain/graph/graph.py:179: UserWarning: Geometry is in a geographic CRS. Results from 'area' are likely incorrect. Use 'GeoSeries.to_crs()' to re-project geometries to a projected CRS before this operation.\n",
      "\n",
      "  areas = df.geometry.area.to_dict()\n",
      "/Users/rishab/Library/Python/3.9/lib/python/site-packages/gerrychain/graph/graph.py:311: UserWarning: NA values found in column TOTPOP!\n",
      "  warnings.warn(\"NA values found in column {}!\".format(column))\n",
      "/Users/rishab/Library/Python/3.9/lib/python/site-packages/gerrychain/graph/graph.py:311: UserWarning: NA values found in column HISP!\n",
      "  warnings.warn(\"NA values found in column {}!\".format(column))\n",
      "/Users/rishab/Library/Python/3.9/lib/python/site-packages/gerrychain/graph/graph.py:311: UserWarning: NA values found in column NH_WHITE!\n",
      "  warnings.warn(\"NA values found in column {}!\".format(column))\n",
      "/Users/rishab/Library/Python/3.9/lib/python/site-packages/gerrychain/graph/graph.py:311: UserWarning: NA values found in column NH_BLACK!\n",
      "  warnings.warn(\"NA values found in column {}!\".format(column))\n",
      "/Users/rishab/Library/Python/3.9/lib/python/site-packages/gerrychain/graph/graph.py:311: UserWarning: NA values found in column NH_AMIN!\n",
      "  warnings.warn(\"NA values found in column {}!\".format(column))\n",
      "/Users/rishab/Library/Python/3.9/lib/python/site-packages/gerrychain/graph/graph.py:311: UserWarning: NA values found in column NH_ASIAN!\n",
      "  warnings.warn(\"NA values found in column {}!\".format(column))\n",
      "/Users/rishab/Library/Python/3.9/lib/python/site-packages/gerrychain/graph/graph.py:311: UserWarning: NA values found in column NH_NHPI!\n",
      "  warnings.warn(\"NA values found in column {}!\".format(column))\n",
      "/Users/rishab/Library/Python/3.9/lib/python/site-packages/gerrychain/graph/graph.py:311: UserWarning: NA values found in column NH_OTHER!\n",
      "  warnings.warn(\"NA values found in column {}!\".format(column))\n",
      "/Users/rishab/Library/Python/3.9/lib/python/site-packages/gerrychain/graph/graph.py:311: UserWarning: NA values found in column NH_2MORE!\n",
      "  warnings.warn(\"NA values found in column {}!\".format(column))\n",
      "/Users/rishab/Library/Python/3.9/lib/python/site-packages/gerrychain/graph/graph.py:311: UserWarning: NA values found in column VAP!\n",
      "  warnings.warn(\"NA values found in column {}!\".format(column))\n",
      "/Users/rishab/Library/Python/3.9/lib/python/site-packages/gerrychain/graph/graph.py:311: UserWarning: NA values found in column HVAP!\n",
      "  warnings.warn(\"NA values found in column {}!\".format(column))\n",
      "/Users/rishab/Library/Python/3.9/lib/python/site-packages/gerrychain/graph/graph.py:311: UserWarning: NA values found in column WVAP!\n",
      "  warnings.warn(\"NA values found in column {}!\".format(column))\n",
      "/Users/rishab/Library/Python/3.9/lib/python/site-packages/gerrychain/graph/graph.py:311: UserWarning: NA values found in column BVAP!\n",
      "  warnings.warn(\"NA values found in column {}!\".format(column))\n",
      "/Users/rishab/Library/Python/3.9/lib/python/site-packages/gerrychain/graph/graph.py:311: UserWarning: NA values found in column AMINVAP!\n",
      "  warnings.warn(\"NA values found in column {}!\".format(column))\n",
      "/Users/rishab/Library/Python/3.9/lib/python/site-packages/gerrychain/graph/graph.py:311: UserWarning: NA values found in column ASIANVAP!\n",
      "  warnings.warn(\"NA values found in column {}!\".format(column))\n",
      "/Users/rishab/Library/Python/3.9/lib/python/site-packages/gerrychain/graph/graph.py:311: UserWarning: NA values found in column NHPIVAP!\n",
      "  warnings.warn(\"NA values found in column {}!\".format(column))\n",
      "/Users/rishab/Library/Python/3.9/lib/python/site-packages/gerrychain/graph/graph.py:311: UserWarning: NA values found in column OTHERVAP!\n",
      "  warnings.warn(\"NA values found in column {}!\".format(column))\n",
      "/Users/rishab/Library/Python/3.9/lib/python/site-packages/gerrychain/graph/graph.py:311: UserWarning: NA values found in column 2MOREVAP!\n",
      "  warnings.warn(\"NA values found in column {}!\".format(column))\n"
     ]
    }
   ],
   "source": [
    "import time\n",
    "import geopandas as gpd\n",
    "from RedistrictingMarkovChain import *\n",
    "\n",
    "STEPS = [100]\n",
    "\n",
    "start_time = time.time()\n",
    "\n",
    "print(\"Starting graph load\")\n",
    "ny_graph = Graph.from_file(\"./new_states/shapefiles/vt_election_df.shp\")\n",
    "blocks_df = gpd.read_file(\"./new_states/shapefiles/vt_election_df.shp\")\n",
    "print(\"Graph loaded\")"
   ]
  },
  {
   "cell_type": "code",
   "execution_count": 2,
   "metadata": {},
   "outputs": [],
   "source": [
    "elections = [\n",
    "    [\"G20PRE\", \"G20PRED\", \"G20PRER\"],  ## election for previous graphs\n",
    "    # [\"GOV18\", \"G18GOVD\", \"G18GOVR\"],\n",
    "    # [\"SOS18\", \"G18SOSD\", \"G18SOSR\"],\n",
    "    # [\"ATG18\", \"G18ATGD\", \"G18ATGR\"]\n",
    "]"
   ]
  },
  {
   "cell_type": "code",
   "execution_count": 3,
   "metadata": {},
   "outputs": [
    {
     "data": {
      "text/plain": [
       "{'boundary_node': False,\n",
       " 'area': 0.003978406630999918,\n",
       " 'STATEFP20': '50',\n",
       " 'COUNTYFP20': '001',\n",
       " 'NAME20': 'Whiting',\n",
       " 'G20PRED': 124,\n",
       " 'G20PRER': 84,\n",
       " 'TOTPOP': 405.0,\n",
       " 'HISP': 8.0,\n",
       " 'NH_WHITE': 370.0,\n",
       " 'NH_BLACK': 3.0,\n",
       " 'NH_AMIN': 1.0,\n",
       " 'NH_ASIAN': 1.0,\n",
       " 'NH_NHPI': 0.0,\n",
       " 'NH_OTHER': 3.0,\n",
       " 'NH_2MORE': 19.0,\n",
       " 'VAP': 315.0,\n",
       " 'HVAP': 5.0,\n",
       " 'WVAP': 292.0,\n",
       " 'BVAP': 2.0,\n",
       " 'AMINVAP': 1.0,\n",
       " 'ASIANVAP': 1.0,\n",
       " 'NHPIVAP': 0.0,\n",
       " 'OTHERVAP': 1.0,\n",
       " '2MOREVAP': 13.0,\n",
       " 'SEN': 'ADD',\n",
       " 'geometry': <POLYGON ((-73.242 43.905, -73.24 43.905, -73.237 43.905, -73.236 43.905, -7...>}"
      ]
     },
     "execution_count": 3,
     "metadata": {},
     "output_type": "execute_result"
    }
   ],
   "source": [
    "ny_graph.nodes[0]"
   ]
  },
  {
   "cell_type": "code",
   "execution_count": 4,
   "metadata": {},
   "outputs": [
    {
     "name": "stdout",
     "output_type": "stream",
     "text": [
      "Walking the ensemble\n",
      "Walk complete\n"
     ]
    },
    {
     "name": "stderr",
     "output_type": "stream",
     "text": [
      "/Users/rishab/Library/Python/3.9/lib/python/site-packages/gerrychain/updaters/tally.py:100: UserWarning: ignoring nan encountered at node '274' for attribute 'population' with fields ['TOTPOP']\n",
      "  warnings.warn(\n",
      "/Users/rishab/Library/Python/3.9/lib/python/site-packages/gerrychain/updaters/tally.py:100: UserWarning: ignoring nan encountered at node '281' for attribute 'population' with fields ['TOTPOP']\n",
      "  warnings.warn(\n",
      "/Users/rishab/Library/Python/3.9/lib/python/site-packages/gerrychain/updaters/tally.py:100: UserWarning: ignoring nan encountered at node '283' for attribute 'population' with fields ['TOTPOP']\n",
      "  warnings.warn(\n",
      "/Users/rishab/Library/Python/3.9/lib/python/site-packages/gerrychain/updaters/tally.py:100: UserWarning: ignoring nan encountered at node '279' for attribute 'population' with fields ['TOTPOP']\n",
      "  warnings.warn(\n",
      "/Users/rishab/Library/Python/3.9/lib/python/site-packages/gerrychain/updaters/tally.py:100: UserWarning: ignoring nan encountered at node '277' for attribute 'population' with fields ['TOTPOP']\n",
      "  warnings.warn(\n",
      "/Users/rishab/Library/Python/3.9/lib/python/site-packages/gerrychain/updaters/tally.py:100: UserWarning: ignoring nan encountered at node '271' for attribute 'population' with fields ['TOTPOP']\n",
      "  warnings.warn(\n",
      "/Users/rishab/Library/Python/3.9/lib/python/site-packages/gerrychain/updaters/tally.py:100: UserWarning: ignoring nan encountered at node '262' for attribute 'population' with fields ['TOTPOP']\n",
      "  warnings.warn(\n",
      "/Users/rishab/Library/Python/3.9/lib/python/site-packages/gerrychain/updaters/tally.py:100: UserWarning: ignoring nan encountered at node '269' for attribute 'population' with fields ['TOTPOP']\n",
      "  warnings.warn(\n",
      "/Users/rishab/Library/Python/3.9/lib/python/site-packages/gerrychain/updaters/tally.py:100: UserWarning: ignoring nan encountered at node '246' for attribute 'population' with fields ['TOTPOP']\n",
      "  warnings.warn(\n",
      "/Users/rishab/Library/Python/3.9/lib/python/site-packages/gerrychain/updaters/tally.py:100: UserWarning: ignoring nan encountered at node '248' for attribute 'population' with fields ['TOTPOP']\n",
      "  warnings.warn(\n",
      "/Users/rishab/Library/Python/3.9/lib/python/site-packages/gerrychain/updaters/tally.py:100: UserWarning: ignoring nan encountered at node '250' for attribute 'population' with fields ['TOTPOP']\n",
      "  warnings.warn(\n",
      "/Users/rishab/Library/Python/3.9/lib/python/site-packages/gerrychain/updaters/tally.py:100: UserWarning: ignoring nan encountered at node '264' for attribute 'population' with fields ['TOTPOP']\n",
      "  warnings.warn(\n",
      "/Users/rishab/Library/Python/3.9/lib/python/site-packages/gerrychain/updaters/tally.py:100: UserWarning: ignoring nan encountered at node '257' for attribute 'population' with fields ['TOTPOP']\n",
      "  warnings.warn(\n",
      "/Users/rishab/Library/Python/3.9/lib/python/site-packages/gerrychain/updaters/tally.py:100: UserWarning: ignoring nan encountered at node '272' for attribute 'population' with fields ['TOTPOP']\n",
      "  warnings.warn(\n"
     ]
    },
    {
     "data": {
      "image/png": "[encoded data removed]",
      "text/plain": [
       "<Figure size 640x480 with 1 Axes>"
      ]
     },
     "metadata": {},
     "output_type": "display_data"
    }
   ],
   "source": [
    "\n",
    "pop_tols = [0.7]\n",
    "\n",
    "ny_markov_chain = RedistrictingMarkovChain(ny_graph,\n",
    "                                            len(set(blocks_df['SEN'])),\n",
    "                                            \"SEN\",\n",
    "                                            elections[0][0],\n",
    "                                            elections[0][1],\n",
    "                                            elections[0][2],\n",
    "                                            \"TOTPOP\",\n",
    "                                            \"HISP\",\n",
    "                                            0.7)\n",
    "ny_markov_chain.init_partition()\n",
    "\n",
    "ny_markov_chain.init_markov_chain(steps=10)\n",
    "cutedge_ensemble, lmaj_ensemble, dem_win_ensemble = ny_markov_chain.walk_the_run()\n",
    "\n",
    "plot_histograms(dem_win_ensemble,\n",
    "                f\"vt_histograms/propose_random_flip_dem_win_ensemble_{10}_{0.7}_{elections[0][0]}.png\")\n",
    "\n",
    "\n",
    "            # cutedge_ensemble, lmaj_ensemble, dem_win_ensemble = ny_markov_chain.walk_the_run()\n",
    "\n",
    "            # # Histograms\n",
    "            # # 1. Cut edge\n",
    "            # # plot_histograms(cutedge_ensemble,\n",
    "            # #                 f\"wa_histograms/propose_random_flip_cutedge_ensemble_{step}_{pop_tol}_{election[0]}.png\")\n",
    "            # # # 2. Majority-Latino districts\n",
    "            # # plot_histograms(lmaj_ensemble,\n",
    "            # #                 f\"wa_histograms/propose_random_flip_lmaj_ensemble_{step}_{pop_tol}_{election[0]}.png\")\n",
    "            # # 3. Democratic-won districts\n",
    "            # plot_histograms(dem_win_ensemble,\n",
    "            #                 f\"wa_histograms/propose_random_flip_dem_win_ensemble_{step}_{pop_tol}_{election[0]}.png\")\n",
    "\n",
    "            # end_time = time.time()\n",
    "            # print(\"The time of execution of above program for step-count \", step, \" for election \", election[0], \"is :\",\n",
    "            #       (end_time - start_time) / 60, \"mins\")"
   ]
  },
  {
   "cell_type": "code",
   "execution_count": null,
   "metadata": {},
   "outputs": [],
   "source": []
  }
 ],
 "metadata": {
  "kernelspec": {
   "display_name": "Python 3",
   "language": "python",
   "name": "python3"
  },
  "language_info": {
   "codemirror_mode": {
    "name": "ipython",
    "version": 3
   },
   "file_extension": ".py",
   "mimetype": "text/x-python",
   "name": "python",
   "nbconvert_exporter": "python",
   "pygments_lexer": "ipython3",
   "version": "3.9.6"
  }
 },
 "nbformat": 4,
 "nbformat_minor": 2
}
