{
 "cells": [
  {
   "cell_type": "code",
   "execution_count": 58,
   "metadata": {},
   "outputs": [],
   "source": [
    "from gerrychain import Graph, Election, updaters, GeographicPartition\n",
    "import numpy as np\n",
    "import statistics"
   ]
  },
  {
   "cell_type": "code",
   "execution_count": 59,
   "metadata": {},
   "outputs": [
    {
     "name": "stderr",
     "output_type": "stream",
     "text": [
      "/Users/rishab/Library/Python/3.9/lib/python/site-packages/gerrychain/graph/graph.py:274: UserWarning: Found islands (degree-0 nodes). Indices of islands: {10308}\n",
      "  warnings.warn(\n",
      "/Users/rishab/Library/Python/3.9/lib/python/site-packages/gerrychain/graph/graph.py:179: UserWarning: Geometry is in a geographic CRS. Results from 'area' are likely incorrect. Use 'GeoSeries.to_crs()' to re-project geometries to a projected CRS before this operation.\n",
      "\n",
      "  areas = df.geometry.area.to_dict()\n"
     ]
    }
   ],
   "source": [
    "g = Graph.from_file(\"./NY/NY.shp\")\n",
    "\n",
    "NUM_DISTRICTS = 27"
   ]
  },
  {
   "cell_type": "code",
   "execution_count": 60,
   "metadata": {},
   "outputs": [],
   "source": [
    "elections = [\n",
    "    Election(\"SEN18\", {\"Democratic\": \"G18SEND\", \"Republican\": \"G18SENR\"}),\n",
    "    Election(\"GOV18\", {\"Democratic\": \"G18GOVD\", \"Republican\": \"G18GOVR\"}),\n",
    "    Election(\"COM18\", {\"Democratic\": \"G18COMD\", \"Republican\": \"G18COMR\"}),\n",
    "    Election(\"ATG18\", {\"Democratic\": \"G18ATGD\", \"Republican\": \"G18ATGR\"}),\n",
    "]\n",
    "my_updaters = {\"population\": updaters.Tally(\"TOTPOP\", alias=\"population\")}\n",
    "election_updaters = {election.name: election for election in elections}\n",
    "my_updaters.update(election_updaters)\n"
   ]
  },
  {
   "cell_type": "code",
   "execution_count": 61,
   "metadata": {},
   "outputs": [],
   "source": [
    "initial_partition = GeographicPartition(g,\n",
    "                                        assignment= \"CD\", updaters=my_updaters)"
   ]
  },
  {
   "cell_type": "code",
   "execution_count": 62,
   "metadata": {},
   "outputs": [],
   "source": [
    "def mm(part, election, party):\n",
    "    if party == \"Democratic\":\n",
    "    # Get the vote totals for the Democratic and Republican parties\n",
    "        votes = part[election].percents(\"Democratic\")\n",
    "    else:\n",
    "        votes = part[election].percents(\"Republican\")\n",
    "\n",
    "    # # Calculate the mean-median difference\n",
    "    mean_median_diff = statistics.median(votes) - statistics.mean(votes)\n",
    "\n",
    "    return mean_median_diff"
   ]
  },
  {
   "cell_type": "code",
   "execution_count": 63,
   "metadata": {},
   "outputs": [
    {
     "name": "stdout",
     "output_type": "stream",
     "text": [
      "---------\n",
      "election -> SEN18\n",
      "---------\n",
      "party -> Democratic\n",
      "MM Difference -> -0.0002932774860613385\n",
      "---------\n",
      "party -> Republican\n",
      "MM Difference -> 0.0002932774860613385\n",
      "---------\n",
      "\n",
      "\n",
      "---------\n",
      "election -> GOV18\n",
      "---------\n",
      "party -> Democratic\n",
      "MM Difference -> 0.10609340012018043\n",
      "---------\n",
      "party -> Republican\n",
      "MM Difference -> -0.10609340012018051\n",
      "---------\n",
      "\n",
      "\n",
      "---------\n",
      "election -> COM18\n",
      "---------\n",
      "party -> Democratic\n",
      "MM Difference -> -0.037452158962881836\n",
      "---------\n",
      "party -> Republican\n",
      "MM Difference -> 0.03745215896288179\n",
      "---------\n",
      "\n",
      "\n",
      "---------\n",
      "election -> ATG18\n",
      "---------\n",
      "party -> Democratic\n",
      "MM Difference -> -0.010488808834372015\n",
      "---------\n",
      "party -> Republican\n",
      "MM Difference -> 0.010488808834372088\n",
      "---------\n",
      "\n",
      "\n"
     ]
    }
   ],
   "source": [
    "for election in elections:\n",
    "    print(\"---------\")\n",
    "    print(\"election -> {}\".format(election.name))\n",
    "    print(\"---------\")\n",
    "    for party in [\"Democratic\", \"Republican\"]:\n",
    "        print(\"party -> {}\".format(party))\n",
    "        diff = mm(initial_partition, election.name, party)\n",
    "        print(\"MM Difference -> {}\".format(diff))\n",
    "        print(\"---------\")\n",
    "\n",
    "    print(\"\\n\")"
   ]
  },
  {
   "cell_type": "code",
   "execution_count": 64,
   "metadata": {},
   "outputs": [],
   "source": [
    "# Efficiency Gap\n",
    "\n",
    "def eg(part, election):\n",
    "    # Get the vote totals for the Democratic and Republican parties\n",
    "    dem_votes = list(part[election].totals_for_party['Democratic'].values())\n",
    "    rep_votes = list(part[election].totals_for_party['Republican'].values())\n",
    "\n",
    "    winning_areas = set()\n",
    "\n",
    "    # Get winning areas\n",
    "    for i in range(len(dem_votes)):\n",
    "        if dem_votes[i] >= rep_votes[i]:\n",
    "            winning_areas.add(i)\n",
    "\n",
    "    # Calculate the number of wasted votes for the Democratic and Republican parties\n",
    "    dem_wasted_votes = 0\n",
    "    rep_wasted_votes = 0\n",
    "\n",
    "    for i in range(len(dem_votes)):\n",
    "        if i in winning_areas:\n",
    "            dem_wasted_votes += dem_votes[i] - (0.5 * (dem_votes[i] + rep_votes[i]))\n",
    "            rep_wasted_votes += rep_votes[i]\n",
    "        else:\n",
    "            dem_wasted_votes += dem_votes[i]\n",
    "            rep_wasted_votes += rep_votes[i] - (0.5 * (dem_votes[i] + rep_votes[i]))\n",
    "\n",
    "    # Calculate the efficiency gap\n",
    "    efficiency_gap = (rep_wasted_votes - dem_wasted_votes) / sum(dem_votes + rep_votes)\n",
    "\n",
    "    return efficiency_gap\n"
   ]
  },
  {
   "cell_type": "code",
   "execution_count": 65,
   "metadata": {},
   "outputs": [
    {
     "name": "stdout",
     "output_type": "stream",
     "text": [
      "---------\n",
      "election -> SEN18\n",
      "---------\n",
      "Efficiency Gap -> -0.17303114929435373\n",
      "---------\n",
      "\n",
      "\n",
      "---------\n",
      "election -> GOV18\n",
      "---------\n",
      "Efficiency Gap -> -0.24049997188727895\n",
      "---------\n",
      "\n",
      "\n",
      "---------\n",
      "election -> COM18\n",
      "---------\n",
      "Efficiency Gap -> 0.44429081840488993\n",
      "---------\n",
      "\n",
      "\n",
      "---------\n",
      "election -> ATG18\n",
      "---------\n",
      "Efficiency Gap -> 0.43999133875317437\n",
      "---------\n",
      "\n",
      "\n"
     ]
    }
   ],
   "source": [
    "for election in elections:\n",
    "    print(\"---------\")\n",
    "    print(\"election -> {}\".format(election.name))\n",
    "    print(\"---------\")\n",
    "    diff = eg(initial_partition, election.name)\n",
    "    print(\"Efficiency Gap -> {}\".format(diff))\n",
    "    print(\"---------\")\n",
    "\n",
    "    print(\"\\n\")"
   ]
  },
  {
   "cell_type": "code",
   "execution_count": 66,
   "metadata": {},
   "outputs": [],
   "source": [
    "## Cut Edges\n",
    "from gerrychain.tree import recursive_tree_part"
   ]
  },
  {
   "cell_type": "code",
   "execution_count": 67,
   "metadata": {},
   "outputs": [
    {
     "name": "stdout",
     "output_type": "stream",
     "text": [
      "Total Population: 20201249\n"
     ]
    }
   ],
   "source": [
    "total_population = sum([g.nodes[node][\"TOTPOP\"] for node in g.nodes()])\n",
    "print(\"Total Population:\", total_population)"
   ]
  },
  {
   "cell_type": "code",
   "execution_count": 68,
   "metadata": {},
   "outputs": [
    {
     "name": "stdout",
     "output_type": "stream",
     "text": [
      "Cut edges: 2680\n"
     ]
    }
   ],
   "source": [
    "districting_plan = recursive_tree_part(g, range(NUM_DISTRICTS), total_population/NUM_DISTRICTS, \"TOTPOP\", 0.02, 10)\n",
    "\n",
    "cut_edges = len([edge for edge in g.edges() if districting_plan[edge[0]] != districting_plan[edge[1]]])\n",
    "print(\"Cut edges:\", cut_edges)"
   ]
  },
  {
   "cell_type": "code",
   "execution_count": 103,
   "metadata": {},
   "outputs": [],
   "source": [
    "from collections import defaultdict\n",
    "\n",
    "democrat_winning_info = defaultdict(list)\n",
    "republican_winning_info = defaultdict(list)\n",
    "## Election: [districts won]\n",
    "\n",
    "for election in elections:\n",
    "    # election.name\n",
    "    dem_votes = initial_partition[election.name].percents(\"Democratic\")\n",
    "    for district_id, district_votes in enumerate(dem_votes):\n",
    "        if district_votes > 0.5:\n",
    "            ## QUESTION: IS THIS SUPPOSED TO BE 0.5?\n",
    "            ## ARE WE CONSIDERING 50% AS WINNING?\n",
    "            democrat_winning_info[election.name].append(district_id)\n",
    "        else:\n",
    "            republican_winning_info[election.name].append(district_id)"
   ]
  },
  {
   "cell_type": "code",
   "execution_count": 104,
   "metadata": {},
   "outputs": [
    {
     "name": "stdout",
     "output_type": "stream",
     "text": [
      "defaultdict(<class 'list'>, {'SEN18': [0, 1, 2, 3, 4, 5, 6, 7, 8, 9, 10, 11, 12, 13, 14, 15, 16, 17, 18, 19, 20, 21, 22, 23, 24, 25, 26], 'GOV18': [0, 1, 2, 3, 4, 5, 6, 7, 8, 9, 10, 11, 12, 13, 14, 16, 17, 19, 21, 22, 23, 25]})\n"
     ]
    }
   ],
   "source": [
    "print(democrat_winning_info)"
   ]
  }
 ],
 "metadata": {
  "kernelspec": {
   "display_name": "Python 3",
   "language": "python",
   "name": "python3"
  },
  "language_info": {
   "codemirror_mode": {
    "name": "ipython",
    "version": 3
   },
   "file_extension": ".py",
   "mimetype": "text/x-python",
   "name": "python",
   "nbconvert_exporter": "python",
   "pygments_lexer": "ipython3",
   "version": "3.9.6"
  }
 },
 "nbformat": 4,
 "nbformat_minor": 2
}
