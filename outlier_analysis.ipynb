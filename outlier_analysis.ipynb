{
 "cells": [
  {
   "cell_type": "code",
   "execution_count": 9,
   "metadata": {
    "ExecuteTime": {
     "end_time": "2024-05-06T22:38:53.569734Z",
     "start_time": "2024-05-06T22:38:53.566177Z"
    }
   },
   "outputs": [],
   "source": [
    "from gerrychain import Graph, Election, updaters, GeographicPartition\n",
    "import statistics"
   ]
  },
  {
   "cell_type": "code",
   "execution_count": 10,
   "metadata": {
    "ExecuteTime": {
     "end_time": "2024-05-06T22:38:53.589310Z",
     "start_time": "2024-05-06T22:38:53.585914Z"
    }
   },
   "outputs": [],
   "source": [
    "def print_to_file(writing_str):\n",
    "    with open('outlier_analysis_output.txt', 'a') as f:\n",
    "        print(writing_str, file=f)"
   ]
  },
  {
   "cell_type": "code",
   "execution_count": 11,
   "metadata": {
    "ExecuteTime": {
     "end_time": "2024-05-06T22:50:59.865719Z",
     "start_time": "2024-05-06T22:38:53.608237Z"
    }
   },
   "outputs": [
    {
     "name": "stderr",
     "output_type": "stream",
     "text": [
      "/Users/travisoleson/anaconda3/lib/python3.11/site-packages/gerrychain/graph/graph.py:388: UserWarning: Found islands (degree-0 nodes). Indices of islands: {134451, 134452}\n",
      "  warnings.warn(\n",
      "/Users/travisoleson/anaconda3/lib/python3.11/site-packages/gerrychain/graph/graph.py:262: UserWarning: Geometry is in a geographic CRS. Results from 'area' are likely incorrect. Use 'GeoSeries.to_crs()' to re-project geometries to a projected CRS before this operation.\n",
      "\n",
      "  areas = df.geometry.area.to_dict()\n"
     ]
    }
   ],
   "source": [
    "g = Graph.from_file(\"./NY-lab/NY.shp\")\n",
    "\n",
    "NUM_DISTRICTS = 26"
   ]
  },
  {
   "cell_type": "code",
   "execution_count": 12,
   "metadata": {
    "ExecuteTime": {
     "end_time": "2024-05-06T22:50:59.874462Z",
     "start_time": "2024-05-06T22:50:59.868599Z"
    }
   },
   "outputs": [],
   "source": [
    "elections = [\n",
    "    Election(\"PRE20\", {\"Democratic\": \"G20PRED\", \"Republican\": \"G20PRER\"}),\n",
    "    # Election(\"SEN18\", {\"Democratic\": \"G18SEND\", \"Republican\": \"G18SENR\"}),\n",
    "    # Election(\"GOV18\", {\"Democratic\": \"G18GOVD\", \"Republican\": \"G18GOVR\"}),\n",
    "    # Election(\"COM18\", {\"Democratic\": \"G18COMD\", \"Republican\": \"G18COMR\"}),\n",
    "    # Election(\"ATG18\", {\"Democratic\": \"G18ATGD\", \"Republican\": \"G18ATGR\"}),\n",
    "]\n",
    "my_updaters = {\"population\": updaters.Tally(\"TOTPOP\", alias=\"population\")}\n",
    "election_updaters = {election.name: election for election in elections}\n",
    "my_updaters.update(election_updaters)\n"
   ]
  },
  {
   "cell_type": "code",
   "execution_count": 13,
   "metadata": {
    "ExecuteTime": {
     "end_time": "2024-05-06T22:51:00.323647Z",
     "start_time": "2024-05-06T22:50:59.876806Z"
    }
   },
   "outputs": [],
   "source": [
    "initial_partition = GeographicPartition(g,\n",
    "                                        assignment= \"CD\", updaters=my_updaters)"
   ]
  },
  {
   "cell_type": "code",
   "execution_count": 14,
   "metadata": {
    "ExecuteTime": {
     "end_time": "2024-05-06T22:51:00.333264Z",
     "start_time": "2024-05-06T22:51:00.327546Z"
    }
   },
   "outputs": [],
   "source": [
    "## MM is directly proportional to the gerymandering of the districting plan\n",
    "\n",
    "def mm(part, election, party):\n",
    "    if party == \"Democratic\":\n",
    "    # Get the vote totals for the Democratic and Republican parties\n",
    "        votes = part[election].percents(\"Democratic\")\n",
    "    else:\n",
    "        votes = part[election].percents(\"Republican\")\n",
    "\n",
    "    # # Calculate the mean-median difference\n",
    "    mean_median_diff = statistics.median(votes) - statistics.mean(votes)\n",
    "\n",
    "    return mean_median_diff"
   ]
  },
  {
   "cell_type": "code",
   "execution_count": 15,
   "metadata": {
    "ExecuteTime": {
     "end_time": "2024-05-06T22:51:00.849937Z",
     "start_time": "2024-05-06T22:51:00.335171Z"
    }
   },
   "outputs": [],
   "source": [
    "for election in elections:\n",
    "    print_to_file(\"---------\")\n",
    "    print_to_file(\"election -> {}\".format(election.name))\n",
    "    print_to_file(\"---------\")\n",
    "    for party in [\"Democratic\", \"Republican\"]:\n",
    "        print_to_file(\"party -> {}\".format(party))\n",
    "        diff = mm(initial_partition, election.name, party)\n",
    "        print_to_file(\"MM Difference -> {}\".format(diff))\n",
    "        print_to_file(\"---------\")\n",
    "\n",
    "    print_to_file(\"\\n\")"
   ]
  },
  {
   "cell_type": "code",
   "execution_count": 16,
   "metadata": {
    "ExecuteTime": {
     "end_time": "2024-05-06T22:51:00.857327Z",
     "start_time": "2024-05-06T22:51:00.851514Z"
    }
   },
   "outputs": [],
   "source": [
    "# Efficiency Gap\n",
    "\n",
    "def eg(part, election):\n",
    "    # Get the vote totals for the Democratic and Republican parties\n",
    "    dem_votes = list(part[election].totals_for_party['Democratic'].values())\n",
    "    rep_votes = list(part[election].totals_for_party['Republican'].values())\n",
    "\n",
    "    winning_areas = set()\n",
    "\n",
    "    # Get winning areas\n",
    "    for i in range(len(dem_votes)):\n",
    "        if dem_votes[i] >= rep_votes[i]:\n",
    "            winning_areas.add(i)\n",
    "\n",
    "    # Calculate the number of wasted votes for the Democratic and Republican parties\n",
    "    dem_wasted_votes = 0\n",
    "    rep_wasted_votes = 0\n",
    "\n",
    "    for i in range(len(dem_votes)):\n",
    "        if i in winning_areas:\n",
    "            dem_wasted_votes += dem_votes[i] - (0.5 * (dem_votes[i] + rep_votes[i]))\n",
    "            rep_wasted_votes += rep_votes[i]\n",
    "        else:\n",
    "            dem_wasted_votes += dem_votes[i]\n",
    "            rep_wasted_votes += rep_votes[i] - (0.5 * (dem_votes[i] + rep_votes[i]))\n",
    "\n",
    "    # Calculate the efficiency gap\n",
    "    efficiency_gap = (rep_wasted_votes - dem_wasted_votes) / sum(dem_votes + rep_votes)\n",
    "\n",
    "    return efficiency_gap\n"
   ]
  },
  {
   "cell_type": "code",
   "execution_count": 17,
   "metadata": {
    "ExecuteTime": {
     "end_time": "2024-05-06T22:51:00.865220Z",
     "start_time": "2024-05-06T22:51:00.859489Z"
    }
   },
   "outputs": [],
   "source": [
    "for election in elections:\n",
    "    print_to_file(\"---------\")\n",
    "    print_to_file(\"election -> {}\".format(election.name))\n",
    "    print_to_file(\"---------\")\n",
    "    diff = eg(initial_partition, election.name)\n",
    "    print_to_file(\"Efficiency Gap -> {}\".format(diff))\n",
    "    print_to_file(\"---------\")\n",
    "\n",
    "    print_to_file(\"\\n\")"
   ]
  },
  {
   "cell_type": "code",
   "execution_count": 18,
   "metadata": {
    "ExecuteTime": {
     "end_time": "2024-05-06T22:51:00.872860Z",
     "start_time": "2024-05-06T22:51:00.866723Z"
    }
   },
   "outputs": [],
   "source": [
    "## Cut Edges\n",
    "from gerrychain.tree import recursive_tree_part"
   ]
  },
  {
   "cell_type": "code",
   "execution_count": 19,
   "metadata": {
    "ExecuteTime": {
     "end_time": "2024-05-06T22:51:01.036241Z",
     "start_time": "2024-05-06T22:51:00.874463Z"
    }
   },
   "outputs": [],
   "source": [
    "total_population = sum([g.nodes[node][\"TOTPOP\"] for node in g.nodes()])\n",
    "\n",
    "pop_str = \"Total Population:\" + str(total_population)\n",
    "print_to_file(pop_str)"
   ]
  },
  {
   "cell_type": "code",
   "execution_count": 20,
   "metadata": {
    "ExecuteTime": {
     "end_time": "2024-05-06T22:56:14.151629Z",
     "start_time": "2024-05-06T22:51:01.041039Z"
    }
   },
   "outputs": [],
   "source": [
    "districting_plan = recursive_tree_part(g, range(NUM_DISTRICTS), total_population/NUM_DISTRICTS, \"TOTPOP\", 0.02, 10)\n",
    "\n",
    "cut_edges = len([edge for edge in g.edges() if districting_plan[edge[0]] != districting_plan[edge[1]]])\n",
    "\n",
    "pop_str = \"Cut Edges:\" + str(cut_edges)\n",
    "print_to_file(pop_str)"
   ]
  },
  {
   "cell_type": "code",
   "execution_count": 21,
   "metadata": {
    "ExecuteTime": {
     "end_time": "2024-05-06T22:56:14.167578Z",
     "start_time": "2024-05-06T22:56:14.155464Z"
    }
   },
   "outputs": [],
   "source": [
    "from collections import defaultdict\n",
    "\n",
    "democrat_winning_info = defaultdict(list)\n",
    "republican_winning_info = defaultdict(list)\n",
    "## Election: [districts won]\n",
    "\n",
    "for election in elections:\n",
    "    # election.name\n",
    "    dem_votes = initial_partition[election.name].percents(\"Democratic\")\n",
    "    for district_id, district_votes in enumerate(dem_votes):\n",
    "        if district_votes > 0.5:\n",
    "            democrat_winning_info[election.name].append(district_id)\n",
    "        else:\n",
    "            republican_winning_info[election.name].append(district_id)"
   ]
  },
  {
   "cell_type": "code",
   "execution_count": 22,
   "metadata": {
    "ExecuteTime": {
     "end_time": "2024-05-06T22:56:14.176774Z",
     "start_time": "2024-05-06T22:56:14.169733Z"
    }
   },
   "outputs": [],
   "source": [
    "print_to_file(democrat_winning_info)"
   ]
  },
  {
   "cell_type": "code",
   "execution_count": null,
   "metadata": {},
   "outputs": [],
   "source": [
    "def part_bias(part, election):\n",
    "    \"\"\"\n",
    "    TODO: Calculate the partisan bias of the districting map corresponding to partition `part`.\n",
    "    Return the value of the partisan bias, from the perspective of the Democratic party.\n",
    "    \"\"\"\n",
    "\n",
    "    # Get the vote totals for the Democraticparties\n",
    "    dem_votes = part[election].percents(\"Democratic\")\n",
    "\n",
    "    dem_vote_share = 0\n",
    "\n",
    "    for i in range(len(dem_votes)):\n",
    "        if dem_votes[i] >= statistics.mean(dem_votes): ## Higher than the mean\n",
    "            dem_vote_share += 1\n",
    "\n",
    "    s_v = dem_vote_share / len(dem_votes)\n",
    "\n",
    "    # Calculate the partisan bias\n",
    "    partisan_bias = s_v - 0.5\n",
    "\n",
    "    return partisan_bias\n"
   ]
  }
 ],
 "metadata": {
  "kernelspec": {
   "display_name": "Python 3",
   "language": "python",
   "name": "python3"
  },
  "language_info": {
   "codemirror_mode": {
    "name": "ipython",
    "version": 3
   },
   "file_extension": ".py",
   "mimetype": "text/x-python",
   "name": "python",
   "nbconvert_exporter": "python",
   "pygments_lexer": "ipython3",
   "version": "3.9.6"
  }
 },
 "nbformat": 4,
 "nbformat_minor": 2
}
