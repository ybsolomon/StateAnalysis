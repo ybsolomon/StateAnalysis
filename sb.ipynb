{
 "cells": [
  {
   "cell_type": "code",
   "execution_count": 16,
   "metadata": {},
   "outputs": [
    {
     "name": "stderr",
     "output_type": "stream",
     "text": [
      "/Users/rishab/Library/Python/3.9/lib/python/site-packages/gerrychain/graph/graph.py:274: UserWarning: Found islands (degree-0 nodes). Indices of islands: {10308}\n",
      "  warnings.warn(\n",
      "/Users/rishab/Library/Python/3.9/lib/python/site-packages/gerrychain/graph/graph.py:179: UserWarning: Geometry is in a geographic CRS. Results from 'area' are likely incorrect. Use 'GeoSeries.to_crs()' to re-project geometries to a projected CRS before this operation.\n",
      "\n",
      "  areas = df.geometry.area.to_dict()\n"
     ]
    },
    {
     "name": "stdout",
     "output_type": "stream",
     "text": [
      "Graph loaded\n"
     ]
    }
   ],
   "source": [
    "# from gerrychain import Graph\n",
    "\n",
    "# ny_graph = Graph.from_file(\"./NY/NY.shp\")\n",
    "# print(\"Graph loaded\")"
   ]
  },
  {
   "cell_type": "code",
   "execution_count": 26,
   "metadata": {},
   "outputs": [
    {
     "ename": "AttributeError",
     "evalue": "'Graph' object has no attribute 'columns'",
     "output_type": "error",
     "traceback": [
      "\u001b[0;31m---------------------------------------------------------------------------\u001b[0m",
      "\u001b[0;31mAttributeError\u001b[0m                            Traceback (most recent call last)",
      "Cell \u001b[0;32mIn[26], line 2\u001b[0m\n\u001b[1;32m      1\u001b[0m \u001b[38;5;28mprint\u001b[39m(\n\u001b[0;32m----> 2\u001b[0m     (\u001b[43mny_graph\u001b[49m\u001b[38;5;241;43m.\u001b[39;49m\u001b[43mcolumns\u001b[49m)\n\u001b[1;32m      3\u001b[0m )\n",
      "\u001b[0;31mAttributeError\u001b[0m: 'Graph' object has no attribute 'columns'"
     ]
    }
   ],
   "source": [
    "# print(\n",
    "#     (ny_graph.columns)\n",
    "# )"
   ]
  },
  {
   "cell_type": "code",
   "execution_count": 45,
   "metadata": {},
   "outputs": [
    {
     "name": "stdout",
     "output_type": "stream",
     "text": [
      "[[2. 2. 2. 2. 2. 2. 2. 2. 2. 2. 2. 2. 2. 2. 2. 2. 2. 2. 2. 2. 2. 2. 2. 2.\n",
      "  1. 1. 1. 1. 1. 1. 1. 1. 1. 1. 1. 1. 1. 1. 1. 1. 1. 1. 1. 1. 1. 1. 1. 1.\n",
      "  1. 1.]\n",
      " [2. 2. 2. 2. 2. 2. 2. 2. 2. 2. 2. 2. 2. 2. 2. 2. 2. 2. 2. 2. 2. 2. 2. 2.\n",
      "  2. 2. 2. 2. 2. 2. 2. 1. 1. 1. 1. 1. 1. 1. 1. 1. 1. 1. 1. 1. 1. 1. 1. 1.\n",
      "  1. 1.]]\n"
     ]
    }
   ],
   "source": [
    "import numpy as np\n",
    "\n",
    "# StateAnalysis\n",
    "Three_NY = np.load(\"./data/states/0.1_NY_dists26_HVAPopt_4.5%_100_sbl50_score0_9.npy\")\n",
    "Five_NY = np.load(\"./data/states/0.5_NY_dists26_HVAPopt_4.5%_100_sbl50_score0_9.npy\")\n",
    "Seven_NY = np.load(\"./data/states/0.7_NY_dists26_HVAPopt_4.5%_100_sbl50_score0_9.npy\")\n",
    "Nine_NY = np.load(\"./data/states/0.7_NY_dists26_HVAPopt_4.5%_100_sbl50_score0_9.npy\")\n",
    "\n",
    "print(Five_NY)\n"
   ]
  },
  {
   "cell_type": "code",
   "execution_count": 23,
   "metadata": {},
   "outputs": [
    {
     "name": "stdout",
     "output_type": "stream",
     "text": [
      "[[2. 2. 2. ... 1. 1. 1.]\n",
      " [2. 2. 2. ... 1. 1. 1.]\n",
      " [2. 2. 2. ... 2. 2. 2.]\n",
      " ...\n",
      " [3. 3. 3. ... 2. 2. 2.]\n",
      " [3. 2. 2. ... 2. 2. 2.]\n",
      " [3. 2. 2. ... 3. 3. 3.]]\n"
     ]
    }
   ],
   "source": [
    "# S\n",
    "\n",
    "import numpy as np\n",
    "\n",
    "t = np.load(\"./data/states/NY_dists26_HVAPopt_4.5%_5000_sbl50_score0_0.npy\")\n",
    "\n",
    "print(t)\n"
   ]
  },
  {
   "cell_type": "code",
   "execution_count": 39,
   "metadata": {},
   "outputs": [
    {
     "name": "stdout",
     "output_type": "stream",
     "text": [
      "./data/states/0.1_NY_dists26_HVAPopt_4.5%_100_sbl50_score0_8.npy 2\n",
      "./data/states/0.1_NY_dists26_HVAPopt_4.5%_100_sbl50_score0_9.npy 2\n",
      "./data/states/0.1_NY_dists26_HVAPopt_4.5%_100_sbl50_score0_7.npy 2\n",
      "./data/states/0.1_NY_dists26_HVAPopt_4.5%_100_sbl50_score0_6.npy 2\n",
      "./data/states/0.1_NY_dists26_HVAPopt_4.5%_100_sbl50_score0_4.npy 2\n",
      "./data/states/0.1_NY_dists26_HVAPopt_4.5%_100_sbl50_score0_5.npy 2\n",
      "./data/states/0.1_NY_dists26_HVAPopt_4.5%_100_sbl50_score0_1.npy 2\n",
      "./data/states/0.1_NY_dists26_HVAPopt_4.5%_100_sbl50_score0_0.npy 2\n",
      "./data/states/0.1_NY_dists26_HVAPopt_4.5%_100_sbl50_score0_2.npy 2\n",
      "./data/states/0.1_NY_dists26_HVAPopt_4.5%_100_sbl50_score0_3.npy 2\n",
      "./data/states/0.3_NY_dists26_HVAPopt_4.5%_2000_sbl50_score0_2.npy 40\n",
      "./data/states/0.3_NY_dists26_HVAPopt_4.5%_2000_sbl50_score0_3.npy 40\n",
      "./data/states/0.3_NY_dists26_HVAPopt_4.5%_2000_sbl50_score0_1.npy 40\n",
      "./data/states/0.3_NY_dists26_HVAPopt_4.5%_2000_sbl50_score0_0.npy 40\n",
      "./data/states/0.3_NY_dists26_HVAPopt_4.5%_1000_sbl50_score0_9.npy 20\n",
      "./data/states/0.3_NY_dists26_HVAPopt_4.5%_1000_sbl50_score0_8.npy 20\n",
      "./data/states/0.3_NY_dists26_HVAPopt_4.5%_1000_sbl50_score0_0.npy 20\n",
      "./data/states/0.3_NY_dists26_HVAPopt_4.5%_100_sbl50_score0_0.npy 2\n",
      "./data/states/0.3_NY_dists26_HVAPopt_4.5%_1000_sbl50_score0_1.npy 20\n",
      "./data/states/0.3_NY_dists26_HVAPopt_4.5%_1000_sbl50_score0_3.npy 20\n",
      "./data/states/0.3_NY_dists26_HVAPopt_4.5%_1000_sbl50_score0_2.npy 20\n",
      "./data/states/0.3_NY_dists26_HVAPopt_4.5%_1000_sbl50_score0_6.npy 20\n",
      "./data/states/0.3_NY_dists26_HVAPopt_4.5%_1000_sbl50_score0_7.npy 20\n",
      "./data/states/0.3_NY_dists26_HVAPopt_4.5%_1000_sbl50_score0_5.npy 20\n",
      "./data/states/0.3_NY_dists26_HVAPopt_4.5%_1000_sbl50_score0_4.npy 20\n",
      "./data/states/0.3_NY_dists26_HVAPopt_4.5%_5000_sbl50_score0_0.npy 100\n",
      "./data/states/0.4_NY_dists26_HVAPopt_4.5%_100_sbl50_score0_8.npy 2\n",
      "./data/states/0.4_NY_dists26_HVAPopt_4.5%_100_sbl50_score0_9.npy 2\n",
      "./data/states/0.4_NY_dists26_HVAPopt_4.5%_100_sbl50_score0_1.npy 2\n",
      "./data/states/0.4_NY_dists26_HVAPopt_4.5%_100_sbl50_score0_0.npy 2\n",
      "./data/states/0.4_NY_dists26_HVAPopt_4.5%_100_sbl50_score0_2.npy 2\n",
      "./data/states/0.4_NY_dists26_HVAPopt_4.5%_100_sbl50_score0_3.npy 2\n",
      "./data/states/0.4_NY_dists26_HVAPopt_4.5%_100_sbl50_score0_7.npy 2\n",
      "./data/states/0.4_NY_dists26_HVAPopt_4.5%_100_sbl50_score0_6.npy 2\n",
      "./data/states/0.4_NY_dists26_HVAPopt_4.5%_100_sbl50_score0_4.npy 2\n",
      "./data/states/0.4_NY_dists26_HVAPopt_4.5%_100_sbl50_score0_5.npy 2\n",
      "./data/states/0.5_NY_dists26_HVAPopt_4.5%_100_sbl50_score0_6.npy 2\n",
      "./data/states/0.5_NY_dists26_HVAPopt_4.5%_100_sbl50_score0_7.npy 2\n",
      "./data/states/0.5_NY_dists26_HVAPopt_4.5%_100_sbl50_score0_5.npy 2\n",
      "./data/states/0.5_NY_dists26_HVAPopt_4.5%_100_sbl50_score0_4.npy 2\n",
      "./data/states/0.5_NY_dists26_HVAPopt_4.5%_100_sbl50_score0_0.npy 2\n",
      "./data/states/0.5_NY_dists26_HVAPopt_4.5%_100_sbl50_score0_1.npy 2\n",
      "./data/states/0.5_NY_dists26_HVAPopt_4.5%_100_sbl50_score0_3.npy 2\n",
      "./data/states/0.5_NY_dists26_HVAPopt_4.5%_100_sbl50_score0_2.npy 2\n",
      "./data/states/0.5_NY_dists26_HVAPopt_4.5%_100_sbl50_score0_9.npy 2\n",
      "./data/states/0.5_NY_dists26_HVAPopt_4.5%_100_sbl50_score0_8.npy 2\n",
      "./data/states/0.7_NY_dists26_HVAPopt_4.5%_100_sbl50_score0_0.npy 2\n",
      "./data/states/0.7_NY_dists26_HVAPopt_4.5%_100_sbl50_score0_1.npy 2\n",
      "./data/states/0.7_NY_dists26_HVAPopt_4.5%_100_sbl50_score0_3.npy 2\n",
      "./data/states/0.7_NY_dists26_HVAPopt_4.5%_100_sbl50_score0_2.npy 2\n",
      "./data/states/0.7_NY_dists26_HVAPopt_4.5%_100_sbl50_score0_6.npy 2\n",
      "./data/states/0.7_NY_dists26_HVAPopt_4.5%_100_sbl50_score0_7.npy 2\n",
      "./data/states/0.7_NY_dists26_HVAPopt_4.5%_100_sbl50_score0_5.npy 2\n",
      "./data/states/0.7_NY_dists26_HVAPopt_4.5%_100_sbl50_score0_4.npy 2\n",
      "./data/states/0.7_NY_dists26_HVAPopt_4.5%_100_sbl50_score0_9.npy 2\n",
      "./data/states/0.7_NY_dists26_HVAPopt_4.5%_100_sbl50_score0_8.npy 2\n"
     ]
    }
   ],
   "source": [
    "## Recurse through ./data/states\n",
    "## get filenames\n",
    "## for every filename starting with 0.3, we get the number of steps\n",
    "## create a dict with max steps\n",
    "\n",
    "import os\n",
    "import numpy as np\n",
    "\n",
    "files = os.listdir(\"./data/states\")\n",
    "\n",
    "final_data = {}\n",
    "\n",
    "for tolerance in [0.1, 0.3, 0.4, 0.5, 0.7]:\n",
    "\n",
    "    max_steps = {}\n",
    "    for file in files:\n",
    "        if file.startswith(str(tolerance)) and file.endswith(\".npy\") and \"HVAPopt\" in file:\n",
    "            steps = int(file.split(\"_\")[5])\n",
    "\n",
    "            if steps not in max_steps:\n",
    "                max_steps[steps] = 0\n",
    "\n",
    "            inp_districts = np.load(\"./data/states/\" + file)\n",
    "\n",
    "            print(\"./data/states/\" + file, len(inp_districts))\n",
    "\n",
    "            for i in range(len(inp_districts)):\n",
    "                max_steps[steps] = max(max_steps[steps], max(inp_districts[i]))\n",
    "\n",
    "    final_data[tolerance] = max_steps"
   ]
  },
  {
   "cell_type": "code",
   "execution_count": 40,
   "metadata": {},
   "outputs": [
    {
     "data": {
      "text/plain": [
       "{0.1: {100: 18.0},\n",
       " 0.3: {2000: 6.0, 1000: 6.0, 100: 4.0, 5000: 6.0},\n",
       " 0.4: {100: 4.0},\n",
       " 0.5: {100: 2.0},\n",
       " 0.7: {100: 0}}"
      ]
     },
     "execution_count": 40,
     "metadata": {},
     "output_type": "execute_result"
    }
   ],
   "source": [
    "final_data"
   ]
  },
  {
   "cell_type": "code",
   "execution_count": 22,
   "metadata": {},
   "outputs": [],
   "source": [
    "import pandas as pd\n",
    "\n",
    "data = pd.read_pickle(\"./data/states/0.3_NY_dists26_HVAPopt_4.5%_5000_sbl50_score0_0_max_part.p\")"
   ]
  },
  {
   "cell_type": "code",
   "execution_count": 24,
   "metadata": {},
   "outputs": [
    {
     "data": {
      "text/plain": [
       "{20: 20634,\n",
       " 23: 31157,\n",
       " 14: 145273,\n",
       " 15: 120451,\n",
       " 13: 233126,\n",
       " 16: 49998,\n",
       " 19: 51452,\n",
       " 24: 22934,\n",
       " 21: 23661,\n",
       " 18: 28254,\n",
       " 17: 36971,\n",
       " 26: 112786,\n",
       " 10: 88775,\n",
       " 7: 102472,\n",
       " 11: 254492,\n",
       " 9: 277644,\n",
       " 8: 68951,\n",
       " 22: 74191,\n",
       " 25: 83413,\n",
       " 3: 126330,\n",
       " 4: 203845,\n",
       " 2: 243268,\n",
       " 12: 240802,\n",
       " 5: 102865,\n",
       " 6: 102065,\n",
       " 1: 80076}"
      ]
     },
     "execution_count": 24,
     "metadata": {},
     "output_type": "execute_result"
    }
   ],
   "source": [
    "data['HVAP']"
   ]
  }
 ],
 "metadata": {
  "kernelspec": {
   "display_name": "Python 3",
   "language": "python",
   "name": "python3"
  },
  "language_info": {
   "codemirror_mode": {
    "name": "ipython",
    "version": 3
   },
   "file_extension": ".py",
   "mimetype": "text/x-python",
   "name": "python",
   "nbconvert_exporter": "python",
   "pygments_lexer": "ipython3",
   "version": "3.9.6"
  }
 },
 "nbformat": 4,
 "nbformat_minor": 2
}
