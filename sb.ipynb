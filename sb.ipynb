{
 "cells": [
  {
   "cell_type": "code",
   "execution_count": 16,
   "metadata": {},
   "outputs": [
    {
     "name": "stderr",
     "output_type": "stream",
     "text": [
      "/Users/rishab/Library/Python/3.9/lib/python/site-packages/gerrychain/graph/graph.py:274: UserWarning: Found islands (degree-0 nodes). Indices of islands: {10308}\n",
      "  warnings.warn(\n",
      "/Users/rishab/Library/Python/3.9/lib/python/site-packages/gerrychain/graph/graph.py:179: UserWarning: Geometry is in a geographic CRS. Results from 'area' are likely incorrect. Use 'GeoSeries.to_crs()' to re-project geometries to a projected CRS before this operation.\n",
      "\n",
      "  areas = df.geometry.area.to_dict()\n"
     ]
    },
    {
     "name": "stdout",
     "output_type": "stream",
     "text": [
      "Graph loaded\n"
     ]
    }
   ],
   "source": [
    "# from gerrychain import Graph\n",
    "\n",
    "# ny_graph = Graph.from_file(\"./NY/NY.shp\")\n",
    "# print(\"Graph loaded\")"
   ]
  },
  {
   "cell_type": "code",
   "execution_count": 26,
   "metadata": {},
   "outputs": [
    {
     "ename": "AttributeError",
     "evalue": "'Graph' object has no attribute 'columns'",
     "output_type": "error",
     "traceback": [
      "\u001b[0;31m---------------------------------------------------------------------------\u001b[0m",
      "\u001b[0;31mAttributeError\u001b[0m                            Traceback (most recent call last)",
      "Cell \u001b[0;32mIn[26], line 2\u001b[0m\n\u001b[1;32m      1\u001b[0m \u001b[38;5;28mprint\u001b[39m(\n\u001b[0;32m----> 2\u001b[0m     (\u001b[43mny_graph\u001b[49m\u001b[38;5;241;43m.\u001b[39;49m\u001b[43mcolumns\u001b[49m)\n\u001b[1;32m      3\u001b[0m )\n",
      "\u001b[0;31mAttributeError\u001b[0m: 'Graph' object has no attribute 'columns'"
     ]
    }
   ],
   "source": [
    "# print(\n",
    "#     (ny_graph.columns)\n",
    "# )"
   ]
  },
  {
   "cell_type": "code",
   "execution_count": 43,
   "metadata": {},
   "outputs": [
    {
     "name": "stdout",
     "output_type": "stream",
     "text": [
      "[[26. 26. 26. 26. 26. 26. 26. 26. 26. 26. 26. 26. 26. 26. 26. 26. 26. 26.\n",
      "  26. 26. 26. 26. 26. 26. 26. 26. 26. 26. 26. 26. 26. 26. 26. 26. 26. 26.\n",
      "  26. 26. 26. 26. 26. 26. 26. 26. 26. 26. 26. 26. 26. 26.]\n",
      " [26. 26. 26. 26. 26. 26. 26. 26. 26. 26. 26. 26. 26. 26. 26. 26. 26. 26.\n",
      "  26. 26. 26. 26. 26. 26. 26. 26. 26. 26. 26. 26. 26. 26. 26. 26. 26. 26.\n",
      "  26. 26. 26. 26. 26. 26. 26. 26. 26. 26. 26. 26. 26. 26.]]\n"
     ]
    }
   ],
   "source": [
    "import numpy as np\n",
    "\n",
    "# StateAnalysis\n",
    "Three_NY = np.load(\"./data/states/0.1_NY_dists26_HVAPopt_4.5%_100_sbl50_score0_9.npy\")\n",
    "Five_NY = np.load(\"./data/states/0.5_NY_dists26_HVAPopt_4.5%_100_sbl50_score0_9.npy\")\n",
    "Seven_NY = np.load(\"./data/states/0.7_NY_dists26_HVAPopt_4.5%_100_sbl50_score0_9.npy\")\n",
    "Nine_NY = np.load(\"./data/states/0.7_NY_dists26_HVAPopt_4.5%_100_sbl50_score0_9.npy\")\n",
    "\n",
    "print(Seven_NY)\n"
   ]
  },
  {
   "cell_type": "code",
   "execution_count": 23,
   "metadata": {},
   "outputs": [
    {
     "name": "stdout",
     "output_type": "stream",
     "text": [
      "[[2. 2. 2. ... 1. 1. 1.]\n",
      " [2. 2. 2. ... 1. 1. 1.]\n",
      " [2. 2. 2. ... 2. 2. 2.]\n",
      " ...\n",
      " [3. 3. 3. ... 2. 2. 2.]\n",
      " [3. 2. 2. ... 2. 2. 2.]\n",
      " [3. 2. 2. ... 3. 3. 3.]]\n"
     ]
    }
   ],
   "source": [
    "# S\n",
    "\n",
    "import numpy as np\n",
    "\n",
    "t = np.load(\"./data/states/NY_dists26_HVAPopt_4.5%_5000_sbl50_score0_0.npy\")\n",
    "\n",
    "print(t)\n"
   ]
  },
  {
   "cell_type": "code",
   "execution_count": null,
   "metadata": {},
   "outputs": [],
   "source": [
    "[0.1, 0.5, 0.7]\n",
    "[18, 2, 0]"
   ]
  }
 ],
 "metadata": {
  "kernelspec": {
   "display_name": "Python 3",
   "language": "python",
   "name": "python3"
  },
  "language_info": {
   "codemirror_mode": {
    "name": "ipython",
    "version": 3
   },
   "file_extension": ".py",
   "mimetype": "text/x-python",
   "name": "python",
   "nbconvert_exporter": "python",
   "pygments_lexer": "ipython3",
   "version": "3.9.6"
  }
 },
 "nbformat": 4,
 "nbformat_minor": 2
}
